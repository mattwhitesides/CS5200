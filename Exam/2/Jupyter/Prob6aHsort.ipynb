{
 "cells": [
  {
   "cell_type": "code",
   "execution_count": 1,
   "metadata": {},
   "outputs": [],
   "source": [
    "import random\n",
    "import math"
   ]
  },
  {
   "cell_type": "code",
   "execution_count": 8,
   "metadata": {},
   "outputs": [],
   "source": [
    "def heap_sort(A):\n",
    "    build_min_heap(A, len(A))\n",
    "    for i in range(len(A) - 1, 0, -1):\n",
    "        A[1], A[i] = A[i], A[1]\n",
    "        min_heapify(A, 0)\n",
    "\n",
    "def build_min_heap(A, n):\n",
    "    for i in range(parent(n), -1, -1): \n",
    "        min_heapify(A, i) \n",
    "\n",
    "def min_heapify(A, i):    \n",
    "    l = left(i)\n",
    "    r = right(i)\n",
    "    smallest = i\n",
    "\n",
    "    if l < len(A) and A[l] < A[i]:\n",
    "        smallest = l\n",
    "    else:\n",
    "        smallest = i\n",
    "        \n",
    "    if r < len(A) and A[r] < A[smallest]:\n",
    "        smallest = r\n",
    "\n",
    "    if smallest is not i:\n",
    "        A[i], A[smallest] = A[smallest], A[i]        \n",
    "        min_heapify(A, smallest)\n",
    "\n",
    "def parent(i):\n",
    "    return int((i / 2)) - 1\n",
    "        \n",
    "def left(i):\n",
    "    return 2 * i + 1\n",
    "\n",
    "def right(i):\n",
    "    return (2 * i) + 2"
   ]
  },
  {
   "cell_type": "code",
   "execution_count": 9,
   "metadata": {},
   "outputs": [
    {
     "name": "stdout",
     "output_type": "stream",
     "text": [
      "[1, 3, 4, 7, 8, 9, 10, 14, 16, 2]\n"
     ]
    }
   ],
   "source": [
    "A = [1, 2, 3, 4, 7, 8, 9, 10, 14, 16]\n",
    "\n",
    "heap_sort(A)\n",
    "\n",
    "print(A)"
   ]
  },
  {
   "cell_type": "code",
   "execution_count": null,
   "metadata": {},
   "outputs": [],
   "source": []
  }
 ],
 "metadata": {
  "kernelspec": {
   "display_name": "Python 3",
   "language": "python",
   "name": "python3"
  },
  "language_info": {
   "codemirror_mode": {
    "name": "ipython",
    "version": 3
   },
   "file_extension": ".py",
   "mimetype": "text/x-python",
   "name": "python",
   "nbconvert_exporter": "python",
   "pygments_lexer": "ipython3",
   "version": "3.7.1"
  }
 },
 "nbformat": 4,
 "nbformat_minor": 2
}
