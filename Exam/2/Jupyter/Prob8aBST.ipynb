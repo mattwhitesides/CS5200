{
 "cells": [
  {
   "cell_type": "code",
   "execution_count": 1,
   "metadata": {},
   "outputs": [],
   "source": [
    "import random"
   ]
  },
  {
   "cell_type": "code",
   "execution_count": 4,
   "metadata": {},
   "outputs": [],
   "source": [
    "class Node: \n",
    "    def __init__(self, v): \n",
    "        self.key = v \n",
    "        self.left = None\n",
    "        self.right = None\n",
    "                \n",
    "def tree_insert(T, z): \n",
    "    y = None\n",
    "    x = T\n",
    "    while x:\n",
    "        y = x\n",
    "        if z.key < x.key:\n",
    "            x = x.left\n",
    "        else: x = x.right\n",
    "    if y is None:\n",
    "        T = z\n",
    "    elif z.key < y.key:\n",
    "        y.left = z\n",
    "    else: y.right = z\n",
    "                \n",
    "def inorder_traversal(T): \n",
    "    if T: \n",
    "        inorder_traversal(T.left) \n",
    "        print(T.key, end=\", \") \n",
    "        inorder_traversal(T.right)"
   ]
  },
  {
   "cell_type": "code",
   "execution_count": 5,
   "metadata": {},
   "outputs": [
    {
     "name": "stdout",
     "output_type": "stream",
     "text": [
      "9, 35, 41, 50, 51, 53, 55, 74, 78, 83, 89, "
     ]
    }
   ],
   "source": [
    "root = Node(50)\n",
    "\n",
    "rn = []\n",
    "for i in range(10):\n",
    "    rn.append(random.randrange(100))\n",
    "    \n",
    "for i in range(10):\n",
    "    tree_insert(root, Node(rn[i]))    \n",
    "    \n",
    "inorder_traversal(root)"
   ]
  },
  {
   "cell_type": "code",
   "execution_count": null,
   "metadata": {},
   "outputs": [],
   "source": []
  }
 ],
 "metadata": {
  "kernelspec": {
   "display_name": "Python 3",
   "language": "python",
   "name": "python3"
  },
  "language_info": {
   "codemirror_mode": {
    "name": "ipython",
    "version": 3
   },
   "file_extension": ".py",
   "mimetype": "text/x-python",
   "name": "python",
   "nbconvert_exporter": "python",
   "pygments_lexer": "ipython3",
   "version": "3.7.1"
  }
 },
 "nbformat": 4,
 "nbformat_minor": 2
}
