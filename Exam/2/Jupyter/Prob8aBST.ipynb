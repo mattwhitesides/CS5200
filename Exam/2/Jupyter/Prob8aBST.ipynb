{
 "cells": [
  {
   "cell_type": "code",
   "execution_count": 1,
   "metadata": {},
   "outputs": [],
   "source": [
    "import random"
   ]
  },
  {
   "cell_type": "code",
   "execution_count": 8,
   "metadata": {},
   "outputs": [],
   "source": [
    "class Node: \n",
    "    def __init__(self, v): \n",
    "        self.key = v \n",
    "        self.left = None\n",
    "        self.right = None\n",
    "                \n",
    "def tree_insert(T, z): \n",
    "    y = None\n",
    "    x = T\n",
    "    while x:\n",
    "        y = x\n",
    "        if z.key < x.key:\n",
    "            x = x.left\n",
    "        else: x = x.right\n",
    "    if y is None:\n",
    "        T = z\n",
    "    elif z.key < y.key:\n",
    "        y.left = z\n",
    "    else: y.right = z\n",
    "                \n",
    "def inorder_traversal(T): \n",
    "    if T: \n",
    "        inorder_traversal(T.left) \n",
    "        print(T.key, end=\", \") \n",
    "        inorder_traversal(T.right)\n",
    "        \n",
    "def get_height(T):\n",
    "    return get_height_util(T, 0)\n",
    "\n",
    "def get_height_util(T, height):\n",
    "    if T:\n",
    "        height = get_height_util(T.left, height + 1)\n",
    "    return height"
   ]
  },
  {
   "cell_type": "code",
   "execution_count": 9,
   "metadata": {},
   "outputs": [
    {
     "name": "stdout",
     "output_type": "stream",
     "text": [
      "0, 9, 34, 35, 39, 50, 54, 55, 56, 78, 93, "
     ]
    },
    {
     "data": {
      "text/plain": [
       "2"
      ]
     },
     "execution_count": 9,
     "metadata": {},
     "output_type": "execute_result"
    }
   ],
   "source": [
    "root = Node(50)\n",
    "\n",
    "rn = []\n",
    "for i in range(10):\n",
    "    rn.append(random.randrange(100))\n",
    "    \n",
    "for i in range(10):\n",
    "    tree_insert(root, Node(rn[i]))    \n",
    "    \n",
    "inorder_traversal(root)\n",
    "get_height(root)"
   ]
  },
  {
   "cell_type": "code",
   "execution_count": null,
   "metadata": {},
   "outputs": [],
   "source": []
  }
 ],
 "metadata": {
  "kernelspec": {
   "display_name": "Python 3",
   "language": "python",
   "name": "python3"
  },
  "language_info": {
   "codemirror_mode": {
    "name": "ipython",
    "version": 3
   },
   "file_extension": ".py",
   "mimetype": "text/x-python",
   "name": "python",
   "nbconvert_exporter": "python",
   "pygments_lexer": "ipython3",
   "version": "3.6.4"
  }
 },
 "nbformat": 4,
 "nbformat_minor": 2
}
