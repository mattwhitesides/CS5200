{
 "cells": [
  {
   "cell_type": "code",
   "execution_count": 6,
   "metadata": {},
   "outputs": [],
   "source": [
    "def G(n):\n",
    "    if n == 0:\n",
    "        return 5\n",
    "    elif n == 1:\n",
    "        return 15\n",
    "    elif n == 2:\n",
    "        return 40    \n",
    "    elif n > 2:\n",
    "        return G(n - 1) + G(n - 2) + G(n - 3)\n",
    "    \n",
    "def G2(n, lookup = {}):\n",
    "    if n == 0:\n",
    "        return 5\n",
    "    elif n == 1:\n",
    "        return 15\n",
    "    elif n == 2:\n",
    "        return 40    \n",
    "    elif n > 2:\n",
    "        if n not in lookup:\n",
    "            lookup[n] = G2(n - 1, lookup) + G2(n - 2, lookup) + G2(n - 3, lookup)            \n",
    "        return lookup[n]"
   ]
  },
  {
   "cell_type": "code",
   "execution_count": 18,
   "metadata": {},
   "outputs": [
    {
     "name": "stdout",
     "output_type": "stream",
     "text": [
      "15\n",
      "15\n"
     ]
    }
   ],
   "source": [
    "print(G(1))\n",
    "print(G2(1))"
   ]
  },
  {
   "cell_type": "code",
   "execution_count": 17,
   "metadata": {},
   "outputs": [
    {
     "name": "stdout",
     "output_type": "stream",
     "text": [
      "21354641739573893477279411178449377737569899092639453775895870570975006915873346065610819405691957713899246806099708361322154885470915\n"
     ]
    }
   ],
   "source": [
    "print(G2(500))"
   ]
  },
  {
   "cell_type": "code",
   "execution_count": null,
   "metadata": {},
   "outputs": [],
   "source": []
  }
 ],
 "metadata": {
  "kernelspec": {
   "display_name": "Python 3",
   "language": "python",
   "name": "python3"
  },
  "language_info": {
   "codemirror_mode": {
    "name": "ipython",
    "version": 3
   },
   "file_extension": ".py",
   "mimetype": "text/x-python",
   "name": "python",
   "nbconvert_exporter": "python",
   "pygments_lexer": "ipython3",
   "version": "3.7.1"
  }
 },
 "nbformat": 4,
 "nbformat_minor": 2
}
