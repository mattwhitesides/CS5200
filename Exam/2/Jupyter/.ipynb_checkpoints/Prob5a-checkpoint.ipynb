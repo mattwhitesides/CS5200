{
 "cells": [
  {
   "cell_type": "code",
   "execution_count": 1,
   "metadata": {},
   "outputs": [],
   "source": [
    "import random\n",
    "import math"
   ]
  },
  {
   "cell_type": "code",
   "execution_count": 2,
   "metadata": {},
   "outputs": [],
   "source": [
    "file_name = \"Prob5aHeap.txt\"\n",
    "\n",
    "def create_txt_file():\n",
    "    f = open(file_name,\"w+\")\n",
    "    for i in range(10000):\n",
    "        f.write(str(random.randrange(10000)) + \",\")\n",
    "    f.close()\n",
    "\n",
    "def read_file():\n",
    "    f = open(file_name, \"r\")\n",
    "    txt = f.read()\n",
    "    return [int(x) for x in txt.split(',') if x.strip().isdigit()]\n"
   ]
  },
  {
   "cell_type": "code",
   "execution_count": 3,
   "metadata": {},
   "outputs": [],
   "source": [
    "def build_max_heap(A, n):\n",
    "    for i in range(parent(n), -1, -1): \n",
    "        max_heapify(A, i) \n",
    "\n",
    "def max_heapify(A, i):    \n",
    "    l = left(i)\n",
    "    r = right(i)\n",
    "    largest = i\n",
    "\n",
    "    if l < len(A) and A[l] > A[i]:\n",
    "        largest = l\n",
    "    else:\n",
    "        largest = i\n",
    "        \n",
    "    if r < len(A) and A[r] > A[largest]:\n",
    "        largest = r\n",
    "\n",
    "    if largest is not i:\n",
    "        A[i], A[largest] = A[largest], A[i]        \n",
    "        max_heapify(A, largest)\n",
    "\n",
    "def parent(i):\n",
    "    return int((i / 2)) - 1\n",
    "        \n",
    "def left(i):\n",
    "    return 2 * i + 1\n",
    "\n",
    "def right(i):\n",
    "    return (2 * i) + 2\n",
    "\n",
    "def is_heap(A, i): \n",
    "    if i > parent(i):  \n",
    "        return True  \n",
    "    \n",
    "    if A[i] >= A[left(i)] and A[i] >= A[right(i)]:\n",
    "        if is_heap(A, left(i)) and is_heap(A, right(i)):\n",
    "            return True\n",
    "      \n",
    "    return False"
   ]
  },
  {
   "cell_type": "code",
   "execution_count": 4,
   "metadata": {},
   "outputs": [],
   "source": [
    "create_txt_file()\n",
    "A = read_file()"
   ]
  },
  {
   "cell_type": "code",
   "execution_count": 5,
   "metadata": {},
   "outputs": [
    {
     "data": {
      "text/plain": [
       "True"
      ]
     },
     "execution_count": 5,
     "metadata": {},
     "output_type": "execute_result"
    }
   ],
   "source": [
    "build_max_heap(A, len(A))\n",
    "is_heap(A, 0)"
   ]
  },
  {
   "cell_type": "code",
   "execution_count": 6,
   "metadata": {},
   "outputs": [],
   "source": [
    "f = open(file_name, \"a+\")\n",
    "f.write('\\r\\n\\r\\nResult:\\r\\n')\n",
    "f.write(str(A))\n",
    "f.close()"
   ]
  }
 ],
 "metadata": {
  "kernelspec": {
   "display_name": "Python 3",
   "language": "python",
   "name": "python3"
  },
  "language_info": {
   "codemirror_mode": {
    "name": "ipython",
    "version": 3
   },
   "file_extension": ".py",
   "mimetype": "text/x-python",
   "name": "python",
   "nbconvert_exporter": "python",
   "pygments_lexer": "ipython3",
   "version": "3.6.4"
  }
 },
 "nbformat": 4,
 "nbformat_minor": 2
}
