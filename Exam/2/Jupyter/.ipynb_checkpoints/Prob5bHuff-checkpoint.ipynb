{
 "cells": [
  {
   "cell_type": "code",
   "execution_count": 1,
   "metadata": {},
   "outputs": [],
   "source": [
    "import random\n",
    "import math\n",
    "from matplotlib import pyplot as plt"
   ]
  },
  {
   "cell_type": "code",
   "execution_count": 2,
   "metadata": {},
   "outputs": [],
   "source": [
    "file_name = \"Prob5bHuffInput.txt\"\n",
    "\n",
    "def read_file():\n",
    "    f = open(file_name, \"r\")\n",
    "    txt = f.read()\n",
    "    txt = \"\".join(i for i in txt if ord(i) < 128)\n",
    "    f.close()\n",
    "    return [char for char in txt] "
   ]
  },
  {
   "cell_type": "code",
   "execution_count": 3,
   "metadata": {},
   "outputs": [],
   "source": [
    "def build_min_heap(A, n):\n",
    "    for i in range(parent(n), -1, -1): \n",
    "        min_heapify(A, i) \n",
    "\n",
    "def min_heapify(A, i):    \n",
    "    l = left(i)\n",
    "    r = right(i)\n",
    "    smallest = i\n",
    "\n",
    "    if l < len(A) and A[l][0] < A[i][0]:\n",
    "        smallest = l\n",
    "    else:\n",
    "        smallest = i\n",
    "        \n",
    "    if r < len(A) and A[r][0] < A[smallest][0]:\n",
    "        smallest = r\n",
    "\n",
    "    if smallest is not i:\n",
    "        A[i], A[smallest] = A[smallest], A[i]        \n",
    "        min_heapify(A, smallest)\n",
    "        \n",
    "def heap_pop(A):\n",
    "    del A[0]\n",
    "    return A\n",
    "\n",
    "def heap_push(A, x):\n",
    "    A.append(x)\n",
    "    build_min_heap(A, len(A))\n",
    "\n",
    "def parent(i):\n",
    "    return int((i / 2)) - 1\n",
    "        \n",
    "def left(i):\n",
    "    return 2 * i + 1\n",
    "\n",
    "def right(i):\n",
    "    return (2 * i) + 2\n",
    "\n",
    "def is_heap(A, i): \n",
    "    if i > parent(i):  \n",
    "        return True  \n",
    "    \n",
    "    if A[i] >= A[left(i)] and A[i] >= A[right(i)]:\n",
    "        if is_heap(A, left(i)) and is_heap(A, right(i)):\n",
    "            return True\n",
    "      \n",
    "    return False"
   ]
  },
  {
   "cell_type": "code",
   "execution_count": 4,
   "metadata": {},
   "outputs": [],
   "source": [
    "def build_freq_tups(A):\n",
    "    f = {} \n",
    "    for c in A: \n",
    "        if (c in f): \n",
    "            f[c] += 1\n",
    "        else: \n",
    "            f[c] = 1\n",
    "            \n",
    "    characters = f.keys()\n",
    "    tuples = []\n",
    "    for c in characters:\n",
    "        tuples.append([f[c], c])    \n",
    "    return tuples\n",
    "\n",
    "def build_huff_code(A):\n",
    "    while len(A) > 1:\n",
    "        left = heap_pop(A)\n",
    "        right = heap_pop(A)\n",
    "        \n",
    "        for x in left[1:]:\n",
    "            x[1] = '0'\n",
    "        for x in right[1:]:\n",
    "            x[1] = '1' + x[1]\n",
    "        heap_push(A, [left[0] + right[0]] + left[1:] + right[1:])\n",
    "        \n",
    "    return sorted(heap_pop(A)[1:], key = lambda p: (len(p[-1]), p))"
   ]
  },
  {
   "cell_type": "code",
   "execution_count": 5,
   "metadata": {},
   "outputs": [
    {
     "data": {
      "text/plain": [
       "Text(0,0.5,'Value')"
      ]
     },
     "execution_count": 5,
     "metadata": {},
     "output_type": "execute_result"
    },
    {
     "data": {
      "image/png": "[encoded data removed]",
      "text/plain": [
       "<matplotlib.figure.Figure at 0x10e3bf668>"
      ]
     },
     "metadata": {},
     "output_type": "display_data"
    }
   ],
   "source": [
    "A = read_file()\n",
    "\n",
    "plt.hist(A)\n",
    "plt.title('Frequency Distribution')\n",
    "plt.xlabel('Character')\n",
    "plt.ylabel('Value')"
   ]
  },
  {
   "cell_type": "code",
   "execution_count": 7,
   "metadata": {},
   "outputs": [
    {
     "name": "stdout",
     "output_type": "stream",
     "text": [
      "[[1, 'U'], [1, 'O'], [9, 'j'], [3, 'F'], [3, 'L'], [17, 'I'], [13, 'D'], [15, '\\n'], [4, ';'], [4, 'Q'], [12, 'A'], [41, 'h'], [20, 'P'], [111, 'b'], [18, 'V'], [22, 'x'], [18, 'C'], [27, 'M'], [4, 'E'], [27, 'N'], [101, 'q'], [129, 'v'], [234, 'd'], [511, 'l'], [64, 'f'], [1471, ' '], [675, 't'], [663, 'a'], [844, 'i'], [457, 'r'], [143, ','], [891, 'e'], [353, 'c'], [170, 'p'], [448, 'n'], [684, 's'], [96, 'g'], [174, '.'], [14, 'S'], [760, 'u'], [371, 'o'], [392, 'm']]\n"
     ]
    }
   ],
   "source": [
    "F = build_freq_tups(A)\n",
    "build_min_heap(F, len(F))\n",
    "print(F)"
   ]
  },
  {
   "cell_type": "code",
   "execution_count": null,
   "metadata": {},
   "outputs": [],
   "source": []
  }
 ],
 "metadata": {
  "kernelspec": {
   "display_name": "Python 3",
   "language": "python",
   "name": "python3"
  },
  "language_info": {
   "codemirror_mode": {
    "name": "ipython",
    "version": 3
   },
   "file_extension": ".py",
   "mimetype": "text/x-python",
   "name": "python",
   "nbconvert_exporter": "python",
   "pygments_lexer": "ipython3",
   "version": "3.6.4"
  }
 },
 "nbformat": 4,
 "nbformat_minor": 2
}
