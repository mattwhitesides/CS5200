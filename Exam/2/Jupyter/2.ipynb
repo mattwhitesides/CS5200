{
 "cells": [
  {
   "cell_type": "code",
   "execution_count": 1,
   "metadata": {},
   "outputs": [],
   "source": [
    "import sys"
   ]
  },
  {
   "cell_type": "code",
   "execution_count": 34,
   "metadata": {},
   "outputs": [],
   "source": [
    "def f(n):\n",
    "    if n <= 0:\n",
    "        #print(\"Return: 4\")\n",
    "        return 4\n",
    "    elif n <= 1:\n",
    "        #print(\"Return: 32\")\n",
    "        return 32\n",
    "    else:\n",
    "        #print(\"Return: {0}\".format(8*f(n - 1) - 16*f(n - 2)))\n",
    "        return 8*f(n - 1) - 16*f(n - 2)\n",
    "    \n",
    "def f2(n):\n",
    "    return 4**n * (4 * (n + 1))"
   ]
  },
  {
   "cell_type": "code",
   "execution_count": 35,
   "metadata": {},
   "outputs": [
    {
     "name": "stdout",
     "output_type": "stream",
     "text": [
      "f(0) =  4 , f2(0) =  4\n",
      "f(1) =  32 , f2(1) =  32\n",
      "f(2) =  192 , f2(2) =  192\n",
      "f(3) =  1024 , f2(3) =  1024\n",
      "f(4) =  5120 , f2(4) =  5120\n",
      "f(5) =  24576 , f2(5) =  24576\n"
     ]
    }
   ],
   "source": [
    "print(\"f(0) = \", f(0), \", f2(0) = \", f2(0))\n",
    "print(\"f(1) = \", f(1), \", f2(1) = \", f2(1))\n",
    "print(\"f(2) = \", f(2), \", f2(2) = \", f2(2))\n",
    "print(\"f(3) = \", f(3), \", f2(3) = \", f2(3))\n",
    "print(\"f(4) = \", f(4), \", f2(4) = \", f2(4))\n",
    "print(\"f(5) = \", f(5), \", f2(5) = \", f2(5))"
   ]
  },
  {
   "cell_type": "code",
   "execution_count": 33,
   "metadata": {},
   "outputs": [
    {
     "name": "stdout",
     "output_type": "stream",
     "text": [
      "4**0 =  1 , diff =  3 , f(n)/4^n =  4.0\n",
      "4**1 =  4 , diff =  28 , f(n)/4^n =  8.0\n",
      "4**2 =  16 , diff =  176 , f(n)/4^n =  12.0\n",
      "4**3 =  64 , diff =  960 , f(n)/4^n =  16.0\n",
      "4**4 =  256 , diff =  4864 , f(n)/4^n =  20.0\n",
      "4**5 =  1024 , diff =  23552 , f(n)/4^n =  24.0\n"
     ]
    }
   ],
   "source": [
    "print(\"4**0 = \", 4**0, \", diff = \", f(0) - 4**0, \", f(n)/4^n = \", f(0) / 4**0)\n",
    "print(\"4**1 = \", 4**1, \", diff = \", f(1) - 4**1, \", f(n)/4^n = \", f(1) / 4**1)\n",
    "print(\"4**2 = \", 4**2, \", diff = \", f(2) - 4**2, \", f(n)/4^n = \", f(2) / 4**2)\n",
    "print(\"4**3 = \", 4**3, \", diff = \", f(3) - 4**3, \", f(n)/4^n = \", f(3) / 4**3)\n",
    "print(\"4**4 = \", 4**4, \", diff = \", f(4) - 4**4, \", f(n)/4^n = \", f(4) / 4**4)\n",
    "print(\"4**5 = \", 4**5, \", diff = \", f(5) - 4**5, \", f(n)/4^n = \", f(5) / 4**5)"
   ]
  },
  {
   "cell_type": "code",
   "execution_count": null,
   "metadata": {},
   "outputs": [],
   "source": []
  }
 ],
 "metadata": {
  "kernelspec": {
   "display_name": "Python 3",
   "language": "python",
   "name": "python3"
  },
  "language_info": {
   "codemirror_mode": {
    "name": "ipython",
    "version": 3
   },
   "file_extension": ".py",
   "mimetype": "text/x-python",
   "name": "python",
   "nbconvert_exporter": "python",
   "pygments_lexer": "ipython3",
   "version": "3.6.4"
  }
 },
 "nbformat": 4,
 "nbformat_minor": 2
}
