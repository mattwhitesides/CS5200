{
 "cells": [
  {
   "cell_type": "code",
   "execution_count": 1,
   "metadata": {},
   "outputs": [],
   "source": [
    "import random"
   ]
  },
  {
   "cell_type": "code",
   "execution_count": 21,
   "metadata": {},
   "outputs": [],
   "source": [
    "class Node: \n",
    "    def __init__(self, v): \n",
    "        self.key = v \n",
    "        self.left = None\n",
    "        self.right = None\n",
    "        \n",
    "def tree_insert(T, z): \n",
    "    if T is None: \n",
    "        T = z \n",
    "    else: \n",
    "        if T.key < z.key: \n",
    "            if T.right is None: \n",
    "                T.right = z \n",
    "            else: \n",
    "                tree_insert(T.right, z) \n",
    "        else: \n",
    "            if T.left is None: \n",
    "                T.left = z \n",
    "            else: \n",
    "                tree_insert(T.left, z)\n",
    "                \n",
    "def tree_insert2(T, z): \n",
    "    y = None\n",
    "    x = T\n",
    "    while x is not None:\n",
    "        y = x\n",
    "        if z.key < x.key:\n",
    "            x = x.left\n",
    "        else: x = x.right\n",
    "    if y is None:\n",
    "        T = z\n",
    "    elif z.key < y.key:\n",
    "        y.left = z\n",
    "    else: y.right = z\n",
    "                \n",
    "def inorder(root): \n",
    "    if root: \n",
    "        inorder(root.left) \n",
    "        print(root.key, end=\", \") \n",
    "        inorder(root.right)"
   ]
  },
  {
   "cell_type": "code",
   "execution_count": 22,
   "metadata": {},
   "outputs": [
    {
     "name": "stdout",
     "output_type": "stream",
     "text": [
      "18, 28, 30, 30, 46, 50, 54, 66, 76, 85, 99, \n",
      "18, 28, 30, 30, 46, 50, 54, 66, 76, 85, 99, "
     ]
    }
   ],
   "source": [
    "root = Node(50)\n",
    "root2 = Node(50)\n",
    "\n",
    "rn = []\n",
    "for i in range(10):\n",
    "    rn.append(random.randrange(100))\n",
    "\n",
    "for i in range(10):\n",
    "    tree_insert(root, Node(rn[i]))\n",
    "    \n",
    "for i in range(10):\n",
    "    tree_insert2(root2, Node(rn[i]))    \n",
    "    \n",
    "inorder(root)\n",
    "print(\"\")\n",
    "inorder(root2)"
   ]
  },
  {
   "cell_type": "code",
   "execution_count": null,
   "metadata": {},
   "outputs": [],
   "source": []
  }
 ],
 "metadata": {
  "kernelspec": {
   "display_name": "Python 3",
   "language": "python",
   "name": "python3"
  },
  "language_info": {
   "codemirror_mode": {
    "name": "ipython",
    "version": 3
   },
   "file_extension": ".py",
   "mimetype": "text/x-python",
   "name": "python",
   "nbconvert_exporter": "python",
   "pygments_lexer": "ipython3",
   "version": "3.7.1"
  }
 },
 "nbformat": 4,
 "nbformat_minor": 2
}
