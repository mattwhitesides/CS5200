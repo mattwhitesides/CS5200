{
 "cells": [
  {
   "cell_type": "code",
   "execution_count": 63,
   "metadata": {},
   "outputs": [],
   "source": [
    "import collections\n",
    "import math"
   ]
  },
  {
   "cell_type": "code",
   "execution_count": 2,
   "metadata": {},
   "outputs": [],
   "source": [
    "class Graph:    \n",
    "    graph_dict = {}\n",
    "    adj = []\n",
    "    num_edges = 0\n",
    "\n",
    "    def addEdge(self, vert, connected_vert):  \n",
    "        if vert not in self.graph_dict:\n",
    "            self.graph_dict[vert] = [connected_vert]\n",
    "        else:\n",
    "            self.num_edges += 1\n",
    "            self.graph_dict[vert].append(connected_vert)\n",
    "            \n",
    "        if connected_vert not in self.graph_dict:\n",
    "            self.graph_dict[connected_vert] = [vert]\n",
    "        else:\n",
    "            self.graph_dict[connected_vert].append(vert)            \n",
    "\n",
    "    def printGraphDict(self):\n",
    "        print(self.graph_dict)\n",
    "\n",
    "    def getNumVerts(self):\n",
    "        return len(self.graph_dict)\n",
    "    \n",
    "    def getNumEdges(self):\n",
    "        return self.num_edges\n",
    "    \n",
    "    def sortDict(self):\n",
    "        self.adj = collections.OrderedDict(sorted(self.graph_dict.items()))\n",
    "        for key in self.adj:\n",
    "            self.adj[key].sort()\n",
    "    \n",
    "    def getAdjList(self):\n",
    "        self.sortDict();\n",
    "        s = ''\n",
    "        for key in self.adj:\n",
    "            x = ''\n",
    "            for value in self.adj[key]:\n",
    "                x += '{0},'.format(value)\n",
    "            s += \"{0},{1}\\n\".format(key, x).replace(',\\n', '\\n')\n",
    "        return s + '\\n'        \n",
    "    \n",
    "    def DFS(self, temp, vert, visited): \n",
    "        visited[vert] = True\n",
    "        temp.append(vert) \n",
    "        for i in self.adj[vert]: \n",
    "            if visited[i] == False:                   \n",
    "                temp = self.DFS(temp, i, visited) \n",
    "        return temp \n",
    "                \n",
    "    def getConnectedComp(self):\n",
    "        visited = [] \n",
    "        cc = [] \n",
    "        for i in range(list(self.adj.items())[-1][0] + 1):\n",
    "            visited.append(False) \n",
    "        for v in self.adj: \n",
    "            if visited[v] == False: \n",
    "                cc.append(self.DFS([], v, visited)) \n",
    "        return cc\n",
    "    \n",
    "    def printCCList(self):        \n",
    "        cc = self.getConnectedComp()        \n",
    "        s = 'The number of connected components of the graph is {0}.\\n'.format(len(cc))\n",
    "        for c in cc:\n",
    "            if len(c) > 0:\n",
    "                c.sort()\n",
    "                s += str(c[0]) + ', '\n",
    "                s += str(len(c)) + ', '\n",
    "                \n",
    "                e = 0\n",
    "                for i in range(len(c)):\n",
    "                    for j in c[i:]:\n",
    "                        if c[i] in self.graph_dict[j]:\n",
    "                            e += 1\n",
    "                            \n",
    "                s += str(e)\n",
    "                s += ' \\n'\n",
    "        return s\n",
    "            \n",
    "    \n",
    "graph_data = [line.rstrip('\\n').rstrip(')').lstrip('(') for line in open('GraphData.txt')]\n",
    "\n",
    "g = Graph()\n",
    "\n",
    "for line in graph_data:\n",
    "    split = line.split(',')\n",
    "    if len(split) == 2:\n",
    "        g.addEdge(int(split[0]), int(split[1]))"
   ]
  },
  {
   "cell_type": "code",
   "execution_count": 3,
   "metadata": {},
   "outputs": [],
   "source": [
    "f = open('GraphDataOut.txt','w+')"
   ]
  },
  {
   "cell_type": "code",
   "execution_count": 4,
   "metadata": {},
   "outputs": [
    {
     "name": "stdout",
     "output_type": "stream",
     "text": [
      "The number of vertices in the graph is 1426.\n",
      "\n",
      "\n"
     ]
    }
   ],
   "source": [
    "s = \"The number of vertices in the graph is {0}.\\n\\n\".format(g.getNumVerts())\n",
    "f.write(s)\n",
    "print(s)"
   ]
  },
  {
   "cell_type": "code",
   "execution_count": 5,
   "metadata": {},
   "outputs": [
    {
     "name": "stdout",
     "output_type": "stream",
     "text": [
      "The number of edges in the graph is 1659.\n",
      "\n",
      "\n"
     ]
    }
   ],
   "source": [
    "s = \"The number of edges in the graph is {0}.\\n\\n\".format(g.getNumEdges())\n",
    "f.write(s)\n",
    "print(s)"
   ]
  },
  {
   "cell_type": "code",
   "execution_count": 6,
   "metadata": {},
   "outputs": [
    {
     "name": "stdout",
     "output_type": "stream",
     "text": [
      "Below is the adjacency list for this graph with the verrtices sorted.\n",
      "\n"
     ]
    }
   ],
   "source": [
    "s = \"Below is the adjacency list for this graph with the verrtices sorted.\\n\"\n",
    "f.write(s)\n",
    "print(s)"
   ]
  },
  {
   "cell_type": "code",
   "execution_count": 7,
   "metadata": {},
   "outputs": [
    {
     "name": "stdout",
     "output_type": "stream",
     "text": [
      "Printing getAdjList().\n",
      "\n"
     ]
    }
   ],
   "source": [
    "s = g.getAdjList()\n",
    "f.write(s)\n",
    "print('Printing getAdjList().\\n')"
   ]
  },
  {
   "cell_type": "code",
   "execution_count": 8,
   "metadata": {},
   "outputs": [
    {
     "name": "stdout",
     "output_type": "stream",
     "text": [
      "Printing getCCList().\n",
      "\n"
     ]
    }
   ],
   "source": [
    "s = g.printCCList()\n",
    "f.write(s)\n",
    "print('Printing getCCList().\\n')"
   ]
  },
  {
   "cell_type": "code",
   "execution_count": 9,
   "metadata": {},
   "outputs": [],
   "source": [
    "f.close()"
   ]
  },
  {
   "cell_type": "code",
   "execution_count": 128,
   "metadata": {},
   "outputs": [],
   "source": [
    "zero_count = 0\n",
    "one_count = 0"
   ]
  },
  {
   "cell_type": "code",
   "execution_count": 166,
   "metadata": {},
   "outputs": [],
   "source": [
    "def f(n): \n",
    "    if n <= 0: \n",
    "        return 1\n",
    "    elif n < 2: \n",
    "        return 7\n",
    "    else: \n",
    "        x = f(n-1)\n",
    "        y = f(n-2)\n",
    "        return x + y\n",
    "    \n",
    "def fp(n): \n",
    "    if n <= 0: \n",
    "        global zero_count\n",
    "        zero_count += 1\n",
    "        #print(\"return 1\")        \n",
    "        return 1\n",
    "    elif n < 2: \n",
    "        global one_count \n",
    "        one_count += 1\n",
    "        #print(\"return 7\")\n",
    "        return 7\n",
    "    else: \n",
    "        x = fp(n-1)\n",
    "        y = fp(n-2)\n",
    "        #print(\"(f({0}) = {1} + f({2}) = {3}) = {4}\".format(n-1, x, n-2, y, x + y))\n",
    "        return x + y\n",
    "    \n",
    "def sf(n): \n",
    "    if n < 0: \n",
    "        return 0 \n",
    "    else: \n",
    "        x = sf(n-1)\n",
    "        y = fp(n)\n",
    "        #print(\"(sf({0}) = {1} + f({2}) = {3}) = {4}\".format(n-1, x, n, y, x + y))\n",
    "        return x + y"
   ]
  },
  {
   "cell_type": "code",
   "execution_count": 183,
   "metadata": {},
   "outputs": [
    {
     "name": "stdout",
     "output_type": "stream",
     "text": [
      "f(-1) = 2, sf(-1) = 0, diff = -2\n",
      "f(0) = 2, sf(0) = 1, diff = -1\n",
      "f(1) = 2, sf(1) = 8, diff = 6\n",
      "f(2) = 8, sf(2) = 16, diff = 8\n",
      "f(3) = 15, sf(3) = 31, diff = 16\n",
      "f(4) = 23, sf(4) = 54, diff = 31\n",
      "f(5) = 38, sf(5) = 92, diff = 54\n",
      "f(6) = 61, sf(6) = 153, diff = 92\n",
      "f(7) = 99, sf(7) = 252, diff = 153\n",
      "f(8) = 160, sf(8) = 412, diff = 252\n",
      "f(9) = 259, sf(9) = 671, diff = 412\n",
      "f(10) = 419, sf(10) = 1090, diff = 671\n",
      "f(11) = 678, sf(11) = 1768, diff = 1090\n",
      "f(12) = 1097, sf(12) = 2865, diff = 1768\n",
      "f(13) = 1775, sf(13) = 4640, diff = 2865\n",
      "f(14) = 2872, sf(14) = 7512, diff = 4640\n",
      "f(15) = 4647, sf(15) = 12159, diff = 7512\n",
      "f(16) = 7519, sf(16) = 19678, diff = 12159\n",
      "f(17) = 12166, sf(17) = 31844, diff = 19678\n",
      "f(18) = 19685, sf(18) = 51529, diff = 31844\n",
      "f(19) = 31851, sf(19) = 83380, diff = 51529\n",
      "f(20) = 51536, sf(20) = 134916, diff = 83380\n",
      "f(21) = 83387, sf(21) = 218303, diff = 134916\n",
      "f(22) = 134923, sf(22) = 353226, diff = 218303\n",
      "f(23) = 218310, sf(23) = 571536, diff = 353226\n",
      "f(24) = 353233, sf(24) = 924769, diff = 571536\n",
      "f(25) = 571543, sf(25) = 1496312, diff = 924769\n",
      "f(26) = 924776, sf(26) = 2421088, diff = 1496312\n",
      "f(27) = 1496319, sf(27) = 3917407, diff = 2421088\n",
      "f(28) = 2421095, sf(28) = 6338502, diff = 3917407\n",
      "f(29) = 3917414, sf(29) = 10255916, diff = 6338502\n"
     ]
    }
   ],
   "source": [
    "global zero_count\n",
    "zero_count = 0\n",
    "global one_count\n",
    "one_count = 0\n",
    "i = 3\n",
    "for i in range(-1, 30):\n",
    "    #sum_(x=0)^n(8 k + (k - 1)) = (9 k - 1) (n + 1)\n",
    "    fn = (f(i - 1) + f(i - 2))\n",
    "    s = sf(i)\n",
    "    d = s - fn\n",
    "    print(\"f({0}) = {1}, sf({0}) = {2}, diff = {3}\".format(i, fn, s, d))\n",
    "    #print(\"zero count = \", zero_count, \"one count = \", one_count, \"Diff = \", one_count - zero_count, \"\\n\")"
   ]
  },
  {
   "cell_type": "code",
   "execution_count": null,
   "metadata": {},
   "outputs": [],
   "source": []
  },
  {
   "cell_type": "code",
   "execution_count": null,
   "metadata": {},
   "outputs": [],
   "source": []
  }
 ],
 "metadata": {
  "kernelspec": {
   "display_name": "Python 3",
   "language": "python",
   "name": "python3"
  },
  "language_info": {
   "codemirror_mode": {
    "name": "ipython",
    "version": 3
   },
   "file_extension": ".py",
   "mimetype": "text/x-python",
   "name": "python",
   "nbconvert_exporter": "python",
   "pygments_lexer": "ipython3",
   "version": "3.7.1"
  }
 },
 "nbformat": 4,
 "nbformat_minor": 2
}
