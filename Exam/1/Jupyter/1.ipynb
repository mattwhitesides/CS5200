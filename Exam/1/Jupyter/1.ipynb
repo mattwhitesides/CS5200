{
 "cells": [
  {
   "cell_type": "code",
   "execution_count": 150,
   "metadata": {},
   "outputs": [],
   "source": [
    "import collections"
   ]
  },
  {
   "cell_type": "code",
   "execution_count": 151,
   "metadata": {},
   "outputs": [],
   "source": [
    "class Graph:    \n",
    "    graph_dict = {}\n",
    "\n",
    "    def addEdge(self, vert, connected_vert):  \n",
    "        if vert not in self.graph_dict:\n",
    "            self.graph_dict[vert] = [connected_vert]\n",
    "        else:\n",
    "            if connected_vert not in self.graph_dict[vert]:\n",
    "                self.graph_dict[vert].append(connected_vert)\n",
    "\n",
    "    def printGraphDict(self):\n",
    "        print(self.graph_dict)\n",
    "\n",
    "    def getNumVerts(self):\n",
    "        return len(self.graph_dict)\n",
    "    \n",
    "    def getNumEdges(self):\n",
    "        return sum(len(v) for v in self.graph_dict.values())\n",
    "    \n",
    "    def sortDict(self):\n",
    "        sorted_graph = collections.OrderedDict(sorted(self.graph_dict.items()))\n",
    "        for key in sorted_graph:\n",
    "            sorted_graph[key].sort()\n",
    "        return sorted_graph\n",
    "    \n",
    "    def getAdjList(self):\n",
    "        sorted_graph = self.sortDict();\n",
    "        s = ''\n",
    "        for key in sorted_graph:\n",
    "            x = ''\n",
    "            for value in sorted_graph[key]:\n",
    "                x += '{0},'.format(value)\n",
    "            s += \"{0},{1}\\n\".format(key, x).replace(',\\n', '\\n')\n",
    "        return s\n",
    "    \n",
    "graph_data = [line.rstrip('\\n').rstrip(')').lstrip('(') for line in open('GraphData.txt')]\n",
    "\n",
    "g = Graph()\n",
    "\n",
    "for line in graph_data:\n",
    "    split = line.split(',')\n",
    "    if len(split) == 2:\n",
    "        g.addEdge(int(split[0]), int(split[1]))"
   ]
  },
  {
   "cell_type": "code",
   "execution_count": 152,
   "metadata": {},
   "outputs": [],
   "source": [
    "f = open('GraphDataOut.txt','w+')"
   ]
  },
  {
   "cell_type": "code",
   "execution_count": 153,
   "metadata": {},
   "outputs": [
    {
     "name": "stdout",
     "output_type": "stream",
     "text": [
      "The number of vertices in the graph is 1018.\n",
      "\n"
     ]
    }
   ],
   "source": [
    "s = \"The number of vertices in the graph is {0}.\\n\".format(g.getNumVerts())\n",
    "f.write(s)\n",
    "print(s)"
   ]
  },
  {
   "cell_type": "code",
   "execution_count": 154,
   "metadata": {},
   "outputs": [
    {
     "name": "stdout",
     "output_type": "stream",
     "text": [
      "The number of edges in the graph is 2342.\n",
      "\n"
     ]
    }
   ],
   "source": [
    "s = \"The number of edges in the graph is {0}.\\n\".format(g.getNumEdges())\n",
    "f.write(s)\n",
    "print(s)"
   ]
  },
  {
   "cell_type": "code",
   "execution_count": 155,
   "metadata": {},
   "outputs": [
    {
     "name": "stdout",
     "output_type": "stream",
     "text": [
      "Below is the adjacency list for this graph with the verrtices sorted.\n",
      "\n"
     ]
    }
   ],
   "source": [
    "s = \"Below is the adjacency list for this graph with the verrtices sorted.\\n\"\n",
    "f.write(s)\n",
    "print(s)"
   ]
  },
  {
   "cell_type": "code",
   "execution_count": 156,
   "metadata": {},
   "outputs": [
    {
     "name": "stdout",
     "output_type": "stream",
     "text": [
      "Printing getAdjList().\n",
      "\n"
     ]
    }
   ],
   "source": [
    "s = g.getAdjList()\n",
    "f.write(s)\n",
    "print('Printing getAdjList().\\n')"
   ]
  },
  {
   "cell_type": "code",
   "execution_count": null,
   "metadata": {},
   "outputs": [],
   "source": []
  },
  {
   "cell_type": "code",
   "execution_count": null,
   "metadata": {},
   "outputs": [],
   "source": []
  },
  {
   "cell_type": "code",
   "execution_count": 157,
   "metadata": {},
   "outputs": [],
   "source": [
    "f.close()"
   ]
  }
 ],
 "metadata": {
  "kernelspec": {
   "display_name": "Python 3",
   "language": "python",
   "name": "python3"
  },
  "language_info": {
   "codemirror_mode": {
    "name": "ipython",
    "version": 3
   },
   "file_extension": ".py",
   "mimetype": "text/x-python",
   "name": "python",
   "nbconvert_exporter": "python",
   "pygments_lexer": "ipython3",
   "version": "3.7.1"
  }
 },
 "nbformat": 4,
 "nbformat_minor": 2
}
