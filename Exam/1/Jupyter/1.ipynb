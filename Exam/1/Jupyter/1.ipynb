{
 "cells": [
  {
   "cell_type": "code",
   "execution_count": 1,
   "metadata": {},
   "outputs": [],
   "source": [
    "import collections\n",
    "import math\n",
    "from math import sqrt"
   ]
  },
  {
   "cell_type": "code",
   "execution_count": 2,
   "metadata": {},
   "outputs": [],
   "source": [
    "class Graph:    \n",
    "    graph_dict = {}\n",
    "    adj = []\n",
    "    num_edges = 0\n",
    "\n",
    "    def addEdge(self, vert, connected_vert):  \n",
    "        if vert not in self.graph_dict:\n",
    "            self.graph_dict[vert] = [connected_vert]\n",
    "        else:\n",
    "            self.num_edges += 1\n",
    "            self.graph_dict[vert].append(connected_vert)\n",
    "            \n",
    "        if connected_vert not in self.graph_dict:\n",
    "            self.graph_dict[connected_vert] = [vert]\n",
    "        else:\n",
    "            self.graph_dict[connected_vert].append(vert)            \n",
    "\n",
    "    def printGraphDict(self):\n",
    "        print(self.graph_dict)\n",
    "\n",
    "    def getNumVerts(self):\n",
    "        return len(self.graph_dict)\n",
    "    \n",
    "    def getNumEdges(self):\n",
    "        return self.num_edges\n",
    "    \n",
    "    def sortDict(self):\n",
    "        self.adj = collections.OrderedDict(sorted(self.graph_dict.items()))\n",
    "        for key in self.adj:\n",
    "            self.adj[key].sort()\n",
    "    \n",
    "    def getAdjList(self):\n",
    "        self.sortDict();\n",
    "        s = ''\n",
    "        for key in self.adj:\n",
    "            x = ''\n",
    "            for value in self.adj[key]:\n",
    "                x += '{0},'.format(value)\n",
    "            s += \"{0},{1}\\n\".format(key, x).replace(',\\n', '\\n')\n",
    "        return s + '\\n'        \n",
    "    \n",
    "    def DFS(self, temp, vert, visited): \n",
    "        visited[vert] = True\n",
    "        temp.append(vert) \n",
    "        for i in self.adj[vert]: \n",
    "            if visited[i] == False:                   \n",
    "                temp = self.DFS(temp, i, visited) \n",
    "        return temp \n",
    "                \n",
    "    def getConnectedComp(self):\n",
    "        visited = [] \n",
    "        cc = [] \n",
    "        for i in range(list(self.adj.items())[-1][0] + 1):\n",
    "            visited.append(False) \n",
    "        for v in self.adj: \n",
    "            if visited[v] == False: \n",
    "                cc.append(self.DFS([], v, visited)) \n",
    "        return cc\n",
    "    \n",
    "    def printCCList(self):        \n",
    "        cc = self.getConnectedComp()        \n",
    "        s = 'The number of connected components of the graph is {0}.\\n'.format(len(cc))\n",
    "        for c in cc:\n",
    "            if len(c) > 0:\n",
    "                c.sort()\n",
    "                s += str(c[0]) + ', '\n",
    "                s += str(len(c)) + ', '\n",
    "                \n",
    "                e = 0\n",
    "                for i in range(len(c)):\n",
    "                    for j in c[i:]:\n",
    "                        if c[i] in self.graph_dict[j]:\n",
    "                            e += 1\n",
    "                            \n",
    "                s += str(e)\n",
    "                s += ' \\n'\n",
    "        return s\n",
    "            \n",
    "    \n",
    "graph_data = [line.rstrip('\\n').rstrip(')').lstrip('(') for line in open('GraphData.txt')]\n",
    "\n",
    "g = Graph()\n",
    "\n",
    "for line in graph_data:\n",
    "    split = line.split(',')\n",
    "    if len(split) == 2:\n",
    "        g.addEdge(int(split[0]), int(split[1]))"
   ]
  },
  {
   "cell_type": "code",
   "execution_count": 3,
   "metadata": {},
   "outputs": [
    {
     "ename": "AttributeError",
     "evalue": "'list' object has no attribute 'items'",
     "output_type": "error",
     "traceback": [
      "\u001b[0;31m---------------------------------------------------------------------------\u001b[0m",
      "\u001b[0;31mAttributeError\u001b[0m                            Traceback (most recent call last)",
      "\u001b[0;32m<ipython-input-3-f8ea13fcd09b>\u001b[0m in \u001b[0;36m<module>\u001b[0;34m()\u001b[0m\n\u001b[0;32m----> 1\u001b[0;31m \u001b[0ms\u001b[0m \u001b[0;34m=\u001b[0m \u001b[0mg\u001b[0m\u001b[0;34m.\u001b[0m\u001b[0mprintCCList\u001b[0m\u001b[0;34m(\u001b[0m\u001b[0;34m)\u001b[0m\u001b[0;34m\u001b[0m\u001b[0m\n\u001b[0m\u001b[1;32m      2\u001b[0m \u001b[0;34m\u001b[0m\u001b[0m\n\u001b[1;32m      3\u001b[0m \u001b[0mprint\u001b[0m\u001b[0;34m(\u001b[0m\u001b[0ms\u001b[0m\u001b[0;34m)\u001b[0m\u001b[0;34m\u001b[0m\u001b[0m\n",
      "\u001b[0;32m<ipython-input-2-876efb26ac0c>\u001b[0m in \u001b[0;36mprintCCList\u001b[0;34m(self)\u001b[0m\n\u001b[1;32m     59\u001b[0m \u001b[0;34m\u001b[0m\u001b[0m\n\u001b[1;32m     60\u001b[0m     \u001b[0;32mdef\u001b[0m \u001b[0mprintCCList\u001b[0m\u001b[0;34m(\u001b[0m\u001b[0mself\u001b[0m\u001b[0;34m)\u001b[0m\u001b[0;34m:\u001b[0m\u001b[0;34m\u001b[0m\u001b[0m\n\u001b[0;32m---> 61\u001b[0;31m         \u001b[0mcc\u001b[0m \u001b[0;34m=\u001b[0m \u001b[0mself\u001b[0m\u001b[0;34m.\u001b[0m\u001b[0mgetConnectedComp\u001b[0m\u001b[0;34m(\u001b[0m\u001b[0;34m)\u001b[0m\u001b[0;34m\u001b[0m\u001b[0m\n\u001b[0m\u001b[1;32m     62\u001b[0m         \u001b[0ms\u001b[0m \u001b[0;34m=\u001b[0m \u001b[0;34m'The number of connected components of the graph is {0}.\\n'\u001b[0m\u001b[0;34m.\u001b[0m\u001b[0mformat\u001b[0m\u001b[0;34m(\u001b[0m\u001b[0mlen\u001b[0m\u001b[0;34m(\u001b[0m\u001b[0mcc\u001b[0m\u001b[0;34m)\u001b[0m\u001b[0;34m)\u001b[0m\u001b[0;34m\u001b[0m\u001b[0m\n\u001b[1;32m     63\u001b[0m         \u001b[0;32mfor\u001b[0m \u001b[0mc\u001b[0m \u001b[0;32min\u001b[0m \u001b[0mcc\u001b[0m\u001b[0;34m:\u001b[0m\u001b[0;34m\u001b[0m\u001b[0m\n",
      "\u001b[0;32m<ipython-input-2-876efb26ac0c>\u001b[0m in \u001b[0;36mgetConnectedComp\u001b[0;34m(self)\u001b[0m\n\u001b[1;32m     51\u001b[0m         \u001b[0mvisited\u001b[0m \u001b[0;34m=\u001b[0m \u001b[0;34m[\u001b[0m\u001b[0;34m]\u001b[0m\u001b[0;34m\u001b[0m\u001b[0m\n\u001b[1;32m     52\u001b[0m         \u001b[0mcc\u001b[0m \u001b[0;34m=\u001b[0m \u001b[0;34m[\u001b[0m\u001b[0;34m]\u001b[0m\u001b[0;34m\u001b[0m\u001b[0m\n\u001b[0;32m---> 53\u001b[0;31m         \u001b[0;32mfor\u001b[0m \u001b[0mi\u001b[0m \u001b[0;32min\u001b[0m \u001b[0mrange\u001b[0m\u001b[0;34m(\u001b[0m\u001b[0mlist\u001b[0m\u001b[0;34m(\u001b[0m\u001b[0mself\u001b[0m\u001b[0;34m.\u001b[0m\u001b[0madj\u001b[0m\u001b[0;34m.\u001b[0m\u001b[0mitems\u001b[0m\u001b[0;34m(\u001b[0m\u001b[0;34m)\u001b[0m\u001b[0;34m)\u001b[0m\u001b[0;34m[\u001b[0m\u001b[0;34m-\u001b[0m\u001b[0;36m1\u001b[0m\u001b[0;34m]\u001b[0m\u001b[0;34m[\u001b[0m\u001b[0;36m0\u001b[0m\u001b[0;34m]\u001b[0m \u001b[0;34m+\u001b[0m \u001b[0;36m1\u001b[0m\u001b[0;34m)\u001b[0m\u001b[0;34m:\u001b[0m\u001b[0;34m\u001b[0m\u001b[0m\n\u001b[0m\u001b[1;32m     54\u001b[0m             \u001b[0mvisited\u001b[0m\u001b[0;34m.\u001b[0m\u001b[0mappend\u001b[0m\u001b[0;34m(\u001b[0m\u001b[0;32mFalse\u001b[0m\u001b[0;34m)\u001b[0m\u001b[0;34m\u001b[0m\u001b[0m\n\u001b[1;32m     55\u001b[0m         \u001b[0;32mfor\u001b[0m \u001b[0mv\u001b[0m \u001b[0;32min\u001b[0m \u001b[0mself\u001b[0m\u001b[0;34m.\u001b[0m\u001b[0madj\u001b[0m\u001b[0;34m:\u001b[0m\u001b[0;34m\u001b[0m\u001b[0m\n",
      "\u001b[0;31mAttributeError\u001b[0m: 'list' object has no attribute 'items'"
     ]
    }
   ],
   "source": [
    "s = g.printCCList()\n",
    "\n",
    "print(s)"
   ]
  },
  {
   "cell_type": "code",
   "execution_count": 4,
   "metadata": {},
   "outputs": [],
   "source": [
    "f = open('GraphDataOut.txt','w+')"
   ]
  },
  {
   "cell_type": "code",
   "execution_count": 5,
   "metadata": {},
   "outputs": [
    {
     "name": "stdout",
     "output_type": "stream",
     "text": [
      "The number of vertices in the graph is 1426.\n",
      "\n",
      "\n"
     ]
    }
   ],
   "source": [
    "s = \"The number of vertices in the graph is {0}.\\n\\n\".format(g.getNumVerts())\n",
    "f.write(s)\n",
    "print(s)"
   ]
  },
  {
   "cell_type": "code",
   "execution_count": 6,
   "metadata": {},
   "outputs": [
    {
     "name": "stdout",
     "output_type": "stream",
     "text": [
      "The number of edges in the graph is 1659.\n",
      "\n",
      "\n"
     ]
    }
   ],
   "source": [
    "s = \"The number of edges in the graph is {0}.\\n\\n\".format(g.getNumEdges())\n",
    "f.write(s)\n",
    "print(s)"
   ]
  },
  {
   "cell_type": "code",
   "execution_count": 7,
   "metadata": {},
   "outputs": [
    {
     "name": "stdout",
     "output_type": "stream",
     "text": [
      "Below is the adjacency list for this graph with the verrtices sorted.\n",
      "\n"
     ]
    }
   ],
   "source": [
    "s = \"Below is the adjacency list for this graph with the verrtices sorted.\\n\"\n",
    "f.write(s)\n",
    "print(s)"
   ]
  },
  {
   "cell_type": "code",
   "execution_count": 8,
   "metadata": {},
   "outputs": [
    {
     "name": "stdout",
     "output_type": "stream",
     "text": [
      "Printing getAdjList().\n",
      "\n"
     ]
    }
   ],
   "source": [
    "s = g.getAdjList()\n",
    "f.write(s)\n",
    "print('Printing getAdjList().\\n')"
   ]
  },
  {
   "cell_type": "code",
   "execution_count": 9,
   "metadata": {},
   "outputs": [
    {
     "name": "stdout",
     "output_type": "stream",
     "text": [
      "The number of connected components of the graph is 10.\n",
      "1, 159, 267 \n",
      "700, 162, 273 \n",
      "1401, 161, 271 \n",
      "2106, 161, 271 \n",
      "2800, 158, 265 \n",
      "3500, 125, 199 \n",
      "4200, 125, 199 \n",
      "4902, 125, 199 \n",
      "5601, 125, 199 \n",
      "6300, 125, 199 \n",
      "\n"
     ]
    }
   ],
   "source": [
    "s = g.printCCList()\n",
    "\n",
    "print(s)"
   ]
  },
  {
   "cell_type": "code",
   "execution_count": null,
   "metadata": {},
   "outputs": [],
   "source": [
    "f.close()"
   ]
  },
  {
   "cell_type": "code",
   "execution_count": null,
   "metadata": {},
   "outputs": [],
   "source": [
    "def f(n):\n",
    "    if n <= 0:\n",
    "        return 1000\n",
    "    elif n < 2:\n",
    "        return 7000\n",
    "    else:\n",
    "        return f(n-1) + f(n-2)\n",
    "    \n",
    "def sf(n):\n",
    "    if n < 0:\n",
    "        return 0\n",
    "    else:\n",
    "        return sf(n-1) + f(n)\n",
    "    \n",
    "def fib(n): \n",
    "    if n<0: \n",
    "        print(\"Incorrect input\") \n",
    "    elif n==1: \n",
    "        return 0\n",
    "    elif n==2: \n",
    "        return 1\n",
    "    else: \n",
    "        return fib(n-1) + fib(n-2)    "
   ]
  },
  {
   "cell_type": "code",
   "execution_count": null,
   "metadata": {},
   "outputs": [],
   "source": [
    "for i in range(1, 10):\n",
    "    f1 = fib(i)\n",
    "    sf1 = sf(i)\n",
    "    sf2 = (fib(i + 2) * f(0)) + (((fib(i + 3) - 1) * f(1)))\n",
    "    #sf2 = ((1+sqrt(5))**n-(1-sqrt(5))**n)/(2**n*sqrt(5))\n",
    "\n",
    "    print(\"Fib({0}) = {1}\".format(i, f1))\n",
    "    print(\"sf({0}) = {1}, sf2({0}) = {2}\\n\".format(i, sf1, sf2))"
   ]
  },
  {
   "cell_type": "code",
   "execution_count": null,
   "metadata": {},
   "outputs": [],
   "source": [
    "count = 0\n",
    "s = ''\n",
    "for i in range(3):\n",
    "    for j in range(3):\n",
    "        print('')\n",
    "        for k in range(3):\n",
    "            if i > j:\n",
    "                count += 1\n",
    "                s += \"{2} = [{0},{1}]\\n\".format(i, j, \"({0}, {1}, {2}),\".format(i, j, k));\n",
    "            if i > k:\n",
    "                count += 1\n",
    "                s += \"{2} = [{0},{1}]\\n\".format(i, k, \"({0}, {1}, {2}),\".format(i, j, k));\n",
    "            if j > k:\n",
    "                s += \"{2} = [{0},{1}]\\n\".format(j, k, \"({0}, {1}, {2}),\".format(i, j, k));\n",
    "                count += 1\n",
    "                \n",
    "            print(\"({0}, {1}, {2}),\".format(i, j, k), end = ' ')\n",
    "                \n",
    "print(\"\\nCount\", count)\n",
    "print(s)"
   ]
  },
  {
   "cell_type": "code",
   "execution_count": null,
   "metadata": {},
   "outputs": [],
   "source": [
    "count = 0\n",
    "total = 0\n",
    "s = ''\n",
    "for i in range(4):\n",
    "    for j in range(4):\n",
    "        print(\"\")\n",
    "        for k in range(4):\n",
    "\n",
    "            for l in range(4):\n",
    "                total += 1\n",
    "            if i > j:\n",
    "                count += 1\n",
    "                s += \"{2} = [{0},{1}]\\n\".format(i, j, \"({0}, {1}, {2}),\".format(i, j, k));\n",
    "            if i > k:\n",
    "                count += 1\n",
    "                s += \"{2} = [{0},{1}]\\n\".format(i, k, \"({0}, {1}, {2}),\".format(i, j, k));\n",
    "            if i > l:\n",
    "                count += 1\n",
    "                s += \"{2} = [{0},{1}]\\n\".format(i, l, \"({0}, {1}, {2}),\".format(i, j, k));\n",
    "            if j > k:\n",
    "                count += 1                \n",
    "                s += \"{2} = [{0},{1}]\\n\".format(j, k, \"({0}, {1}, {2}),\".format(i, j, k));\n",
    "            if j > l:\n",
    "                s += \"{2} = [{0},{1}]\\n\".format(j, l, \"({0}, {1}, {2}),\".format(i, j, k));    \n",
    "                count += 1\n",
    "            if k > l:\n",
    "                s += \"{2} = [{0},{1}]\\n\".format(k, l, \"({0}, {1}, {2}),\".format(i, j, k));    \n",
    "                count += 1    \n",
    "\n",
    "            print(\"({0}, {1}, {2}, {3}),\".format(i, j, k, l), end = '')\n",
    "print(\"Count\", count, \"Total\", total)"
   ]
  },
  {
   "cell_type": "code",
   "execution_count": null,
   "metadata": {},
   "outputs": [],
   "source": [
    "def f(n):\n",
    "        x = (27 * (n*n*n)) - (27 * (n*n)) + (6 * n)\n",
    "        print(\"n({0}) = {1}\".format(n, x))\n",
    "        return x\n",
    "def s(n):\n",
    "    if n <= 0:\n",
    "        return 0\n",
    "    else:\n",
    "        return s(n-1) + f(n)\n",
    "    \n",
    "def s2(n):\n",
    "    return (27 * (n*n*n)) - (27 * (n*n)) + (6 * n)"
   ]
  },
  {
   "cell_type": "code",
   "execution_count": null,
   "metadata": {},
   "outputs": [],
   "source": [
    "for i in range(10):\n",
    "    print(\"s({0}) = {1}, s2({0}) = {2}\\n\".format(i, s(i), s2(i)))    "
   ]
  },
  {
   "cell_type": "code",
   "execution_count": null,
   "metadata": {},
   "outputs": [],
   "source": []
  },
  {
   "cell_type": "code",
   "execution_count": null,
   "metadata": {},
   "outputs": [],
   "source": []
  }
 ],
 "metadata": {
  "kernelspec": {
   "display_name": "Python 3",
   "language": "python",
   "name": "python3"
  },
  "language_info": {
   "codemirror_mode": {
    "name": "ipython",
    "version": 3
   },
   "file_extension": ".py",
   "mimetype": "text/x-python",
   "name": "python",
   "nbconvert_exporter": "python",
   "pygments_lexer": "ipython3",
   "version": "3.6.4"
  }
 },
 "nbformat": 4,
 "nbformat_minor": 2
}
