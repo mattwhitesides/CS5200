{
 "cells": [
  {
   "cell_type": "code",
   "execution_count": 14,
   "metadata": {},
   "outputs": [],
   "source": [
    "import collections\n",
    "import math\n",
    "from math import sqrt"
   ]
  },
  {
   "cell_type": "code",
   "execution_count": 2,
   "metadata": {},
   "outputs": [
    {
     "ename": "FileNotFoundError",
     "evalue": "[Errno 2] No such file or directory: 'GraphData.txt'",
     "output_type": "error",
     "traceback": [
      "\u001b[0;31m---------------------------------------------------------------------------\u001b[0m",
      "\u001b[0;31mFileNotFoundError\u001b[0m                         Traceback (most recent call last)",
      "\u001b[0;32m<ipython-input-2-876efb26ac0c>\u001b[0m in \u001b[0;36m<module>\u001b[0;34m()\u001b[0m\n\u001b[1;32m     78\u001b[0m \u001b[0;34m\u001b[0m\u001b[0m\n\u001b[1;32m     79\u001b[0m \u001b[0;34m\u001b[0m\u001b[0m\n\u001b[0;32m---> 80\u001b[0;31m \u001b[0mgraph_data\u001b[0m \u001b[0;34m=\u001b[0m \u001b[0;34m[\u001b[0m\u001b[0mline\u001b[0m\u001b[0;34m.\u001b[0m\u001b[0mrstrip\u001b[0m\u001b[0;34m(\u001b[0m\u001b[0;34m'\\n'\u001b[0m\u001b[0;34m)\u001b[0m\u001b[0;34m.\u001b[0m\u001b[0mrstrip\u001b[0m\u001b[0;34m(\u001b[0m\u001b[0;34m')'\u001b[0m\u001b[0;34m)\u001b[0m\u001b[0;34m.\u001b[0m\u001b[0mlstrip\u001b[0m\u001b[0;34m(\u001b[0m\u001b[0;34m'('\u001b[0m\u001b[0;34m)\u001b[0m \u001b[0;32mfor\u001b[0m \u001b[0mline\u001b[0m \u001b[0;32min\u001b[0m \u001b[0mopen\u001b[0m\u001b[0;34m(\u001b[0m\u001b[0;34m'GraphData.txt'\u001b[0m\u001b[0;34m)\u001b[0m\u001b[0;34m]\u001b[0m\u001b[0;34m\u001b[0m\u001b[0m\n\u001b[0m\u001b[1;32m     81\u001b[0m \u001b[0;34m\u001b[0m\u001b[0m\n\u001b[1;32m     82\u001b[0m \u001b[0mg\u001b[0m \u001b[0;34m=\u001b[0m \u001b[0mGraph\u001b[0m\u001b[0;34m(\u001b[0m\u001b[0;34m)\u001b[0m\u001b[0;34m\u001b[0m\u001b[0m\n",
      "\u001b[0;31mFileNotFoundError\u001b[0m: [Errno 2] No such file or directory: 'GraphData.txt'"
     ]
    }
   ],
   "source": [
    "class Graph:    \n",
    "    graph_dict = {}\n",
    "    adj = []\n",
    "    num_edges = 0\n",
    "\n",
    "    def addEdge(self, vert, connected_vert):  \n",
    "        if vert not in self.graph_dict:\n",
    "            self.graph_dict[vert] = [connected_vert]\n",
    "        else:\n",
    "            self.num_edges += 1\n",
    "            self.graph_dict[vert].append(connected_vert)\n",
    "            \n",
    "        if connected_vert not in self.graph_dict:\n",
    "            self.graph_dict[connected_vert] = [vert]\n",
    "        else:\n",
    "            self.graph_dict[connected_vert].append(vert)            \n",
    "\n",
    "    def printGraphDict(self):\n",
    "        print(self.graph_dict)\n",
    "\n",
    "    def getNumVerts(self):\n",
    "        return len(self.graph_dict)\n",
    "    \n",
    "    def getNumEdges(self):\n",
    "        return self.num_edges\n",
    "    \n",
    "    def sortDict(self):\n",
    "        self.adj = collections.OrderedDict(sorted(self.graph_dict.items()))\n",
    "        for key in self.adj:\n",
    "            self.adj[key].sort()\n",
    "    \n",
    "    def getAdjList(self):\n",
    "        self.sortDict();\n",
    "        s = ''\n",
    "        for key in self.adj:\n",
    "            x = ''\n",
    "            for value in self.adj[key]:\n",
    "                x += '{0},'.format(value)\n",
    "            s += \"{0},{1}\\n\".format(key, x).replace(',\\n', '\\n')\n",
    "        return s + '\\n'        \n",
    "    \n",
    "    def DFS(self, temp, vert, visited): \n",
    "        visited[vert] = True\n",
    "        temp.append(vert) \n",
    "        for i in self.adj[vert]: \n",
    "            if visited[i] == False:                   \n",
    "                temp = self.DFS(temp, i, visited) \n",
    "        return temp \n",
    "                \n",
    "    def getConnectedComp(self):\n",
    "        visited = [] \n",
    "        cc = [] \n",
    "        for i in range(list(self.adj.items())[-1][0] + 1):\n",
    "            visited.append(False) \n",
    "        for v in self.adj: \n",
    "            if visited[v] == False: \n",
    "                cc.append(self.DFS([], v, visited)) \n",
    "        return cc\n",
    "    \n",
    "    def printCCList(self):        \n",
    "        cc = self.getConnectedComp()        \n",
    "        s = 'The number of connected components of the graph is {0}.\\n'.format(len(cc))\n",
    "        for c in cc:\n",
    "            if len(c) > 0:\n",
    "                c.sort()\n",
    "                s += str(c[0]) + ', '\n",
    "                s += str(len(c)) + ', '\n",
    "                \n",
    "                e = 0\n",
    "                for i in range(len(c)):\n",
    "                    for j in c[i:]:\n",
    "                        if c[i] in self.graph_dict[j]:\n",
    "                            e += 1\n",
    "                            \n",
    "                s += str(e)\n",
    "                s += ' \\n'\n",
    "        return s\n",
    "            \n",
    "    \n",
    "graph_data = [line.rstrip('\\n').rstrip(')').lstrip('(') for line in open('GraphData.txt')]\n",
    "\n",
    "g = Graph()\n",
    "\n",
    "for line in graph_data:\n",
    "    split = line.split(',')\n",
    "    if len(split) == 2:\n",
    "        g.addEdge(int(split[0]), int(split[1]))"
   ]
  },
  {
   "cell_type": "code",
   "execution_count": 3,
   "metadata": {},
   "outputs": [],
   "source": [
    "f = open('GraphDataOut.txt','w+')"
   ]
  },
  {
   "cell_type": "code",
   "execution_count": 4,
   "metadata": {},
   "outputs": [
    {
     "ename": "NameError",
     "evalue": "name 'g' is not defined",
     "output_type": "error",
     "traceback": [
      "\u001b[0;31m---------------------------------------------------------------------------\u001b[0m",
      "\u001b[0;31mNameError\u001b[0m                                 Traceback (most recent call last)",
      "\u001b[0;32m<ipython-input-4-94476a1c9c96>\u001b[0m in \u001b[0;36m<module>\u001b[0;34m()\u001b[0m\n\u001b[0;32m----> 1\u001b[0;31m \u001b[0ms\u001b[0m \u001b[0;34m=\u001b[0m \u001b[0;34m\"The number of vertices in the graph is {0}.\\n\\n\"\u001b[0m\u001b[0;34m.\u001b[0m\u001b[0mformat\u001b[0m\u001b[0;34m(\u001b[0m\u001b[0mg\u001b[0m\u001b[0;34m.\u001b[0m\u001b[0mgetNumVerts\u001b[0m\u001b[0;34m(\u001b[0m\u001b[0;34m)\u001b[0m\u001b[0;34m)\u001b[0m\u001b[0;34m\u001b[0m\u001b[0m\n\u001b[0m\u001b[1;32m      2\u001b[0m \u001b[0mf\u001b[0m\u001b[0;34m.\u001b[0m\u001b[0mwrite\u001b[0m\u001b[0;34m(\u001b[0m\u001b[0ms\u001b[0m\u001b[0;34m)\u001b[0m\u001b[0;34m\u001b[0m\u001b[0m\n\u001b[1;32m      3\u001b[0m \u001b[0mprint\u001b[0m\u001b[0;34m(\u001b[0m\u001b[0ms\u001b[0m\u001b[0;34m)\u001b[0m\u001b[0;34m\u001b[0m\u001b[0m\n",
      "\u001b[0;31mNameError\u001b[0m: name 'g' is not defined"
     ]
    }
   ],
   "source": [
    "s = \"The number of vertices in the graph is {0}.\\n\\n\".format(g.getNumVerts())\n",
    "f.write(s)\n",
    "print(s)"
   ]
  },
  {
   "cell_type": "code",
   "execution_count": null,
   "metadata": {},
   "outputs": [],
   "source": [
    "s = \"The number of edges in the graph is {0}.\\n\\n\".format(g.getNumEdges())\n",
    "f.write(s)\n",
    "print(s)"
   ]
  },
  {
   "cell_type": "code",
   "execution_count": null,
   "metadata": {},
   "outputs": [],
   "source": [
    "s = \"Below is the adjacency list for this graph with the verrtices sorted.\\n\"\n",
    "f.write(s)\n",
    "print(s)"
   ]
  },
  {
   "cell_type": "code",
   "execution_count": null,
   "metadata": {},
   "outputs": [],
   "source": [
    "s = g.getAdjList()\n",
    "f.write(s)\n",
    "print('Printing getAdjList().\\n')"
   ]
  },
  {
   "cell_type": "code",
   "execution_count": null,
   "metadata": {},
   "outputs": [],
   "source": [
    "s = g.printCCList()\n",
    "f.write(s)\n",
    "print('Printing getCCList().\\n')"
   ]
  },
  {
   "cell_type": "code",
   "execution_count": null,
   "metadata": {},
   "outputs": [],
   "source": [
    "f.close()"
   ]
  },
  {
   "cell_type": "code",
   "execution_count": 7,
   "metadata": {},
   "outputs": [],
   "source": [
    "def f(n):\n",
    "    if n <= 0:\n",
    "        return 1000\n",
    "    elif n < 2:\n",
    "        return 7000\n",
    "    else:\n",
    "        return f(n-1) + f(n-2)\n",
    "    \n",
    "def sf(n):\n",
    "    if n < 0:\n",
    "        return 0\n",
    "    else:\n",
    "        return sf(n-1) + f(n)\n",
    "    \n",
    "def fib(n): \n",
    "    if n<0: \n",
    "        print(\"Incorrect input\") \n",
    "    elif n==1: \n",
    "        return 0\n",
    "    elif n==2: \n",
    "        return 1\n",
    "    else: \n",
    "        return fib(n-1) + fib(n-2)    "
   ]
  },
  {
   "cell_type": "code",
   "execution_count": 18,
   "metadata": {},
   "outputs": [
    {
     "name": "stdout",
     "output_type": "stream",
     "text": [
      "Fib(1) = 0\n",
      "sf(1) = 8000, sf2(1) = 8000\n",
      "\n",
      "Fib(2) = 1\n",
      "sf(2) = 16000, sf2(2) = 16000\n",
      "\n",
      "Fib(3) = 1\n",
      "sf(3) = 31000, sf2(3) = 31000\n",
      "\n",
      "Fib(4) = 2\n",
      "sf(4) = 54000, sf2(4) = 54000\n",
      "\n",
      "Fib(5) = 3\n",
      "sf(5) = 92000, sf2(5) = 92000\n",
      "\n",
      "Fib(6) = 5\n",
      "sf(6) = 153000, sf2(6) = 153000\n",
      "\n",
      "Fib(7) = 8\n",
      "sf(7) = 252000, sf2(7) = 252000\n",
      "\n"
     ]
    }
   ],
   "source": [
    "for i in range(1, 8):\n",
    "    f1 = fib(i)\n",
    "    sf1 = sf(i)\n",
    "    sf2 = (fib(i + 2) * 1000) + ((fib(i + 3) - 1) * 7) * 1000)\n",
    "    #sf2 = ((1+sqrt(5))**n-(1-sqrt(5))**n)/(2**n*sqrt(5))\n",
    "\n",
    "    print(\"Fib({0}) = {1}\".format(i, f1))\n",
    "    print(\"sf({0}) = {1}, sf2({0}) = {2}\\n\".format(i, sf1, sf2))"
   ]
  },
  {
   "cell_type": "code",
   "execution_count": null,
   "metadata": {},
   "outputs": [],
   "source": []
  },
  {
   "cell_type": "code",
   "execution_count": null,
   "metadata": {},
   "outputs": [],
   "source": []
  }
 ],
 "metadata": {
  "kernelspec": {
   "display_name": "Python 3",
   "language": "python",
   "name": "python3"
  },
  "language_info": {
   "codemirror_mode": {
    "name": "ipython",
    "version": 3
   },
   "file_extension": ".py",
   "mimetype": "text/x-python",
   "name": "python",
   "nbconvert_exporter": "python",
   "pygments_lexer": "ipython3",
   "version": "3.6.4"
  }
 },
 "nbformat": 4,
 "nbformat_minor": 2
}
