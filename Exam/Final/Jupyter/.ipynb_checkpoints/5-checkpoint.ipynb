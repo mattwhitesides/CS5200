{
 "cells": [
  {
   "cell_type": "code",
   "execution_count": 1,
   "metadata": {},
   "outputs": [],
   "source": [
    "import sys"
   ]
  },
  {
   "cell_type": "code",
   "execution_count": 3,
   "metadata": {},
   "outputs": [
    {
     "name": "stdout",
     "output_type": "stream",
     "text": [
      "Length of data: 2342\n"
     ]
    }
   ],
   "source": [
    "txt_data = [line.rstrip('\\n').rstrip(')').lstrip('(') for line in open('GraphData.txt')]\n",
    "graph_data = []\n",
    "\n",
    "for line in txt_data:\n",
    "    split = line.split(',')\n",
    "    if len(split) == 2:\n",
    "        x = int(split[0])\n",
    "        y = int(split[1])\n",
    "        graph_data.append((x, y, abs(x - y)))\n",
    "        \n",
    "print(\"Length of data:\", len(graph_data))"
   ]
  }
 ],
 "metadata": {
  "kernelspec": {
   "display_name": "Python 3",
   "language": "python",
   "name": "python3"
  },
  "language_info": {
   "codemirror_mode": {
    "name": "ipython",
    "version": 3
   },
   "file_extension": ".py",
   "mimetype": "text/x-python",
   "name": "python",
   "nbconvert_exporter": "python",
   "pygments_lexer": "ipython3",
   "version": "3.6.4"
  }
 },
 "nbformat": 4,
 "nbformat_minor": 2
}
