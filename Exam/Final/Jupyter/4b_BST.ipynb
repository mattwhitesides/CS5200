{
 "cells": [
  {
   "cell_type": "code",
   "execution_count": 1,
   "metadata": {},
   "outputs": [],
   "source": [
    "import sys\n",
    "import time\n",
    "import statistics"
   ]
  },
  {
   "cell_type": "code",
   "execution_count": 2,
   "metadata": {},
   "outputs": [],
   "source": [
    "class Node: \n",
    "    def __init__(self, v): \n",
    "        self.key = v \n",
    "        self.left = None\n",
    "        self.right = None\n",
    "                \n",
    "def tree_insert(T, z): \n",
    "    y = None\n",
    "    x = T\n",
    "    while x:\n",
    "        y = x\n",
    "        if z.key < x.key:\n",
    "            x = x.left\n",
    "        else: x = x.right\n",
    "    if y is None:\n",
    "        T = z\n",
    "    elif z.key < y.key:\n",
    "        y.left = z\n",
    "    else: y.right = z\n",
    "                \n",
    "def inorder_traversal(T): \n",
    "    if T: \n",
    "        inorder_traversal(T.left) \n",
    "        print(T.key, end=\", \") \n",
    "        inorder_traversal(T.right)\n",
    "        \n",
    "def get_height(T):\n",
    "    return get_height_util(T, 0)\n",
    "\n",
    "def get_height_util(T, height):\n",
    "    if T:\n",
    "        height = get_height_util(T.left, height + 1)\n",
    "    return height"
   ]
  },
  {
   "cell_type": "code",
   "execution_count": 3,
   "metadata": {},
   "outputs": [
    {
     "name": "stdout",
     "output_type": "stream",
     "text": [
      "10\n"
     ]
    }
   ],
   "source": [
    "data = []\n",
    "\n",
    "for i in range(10):\n",
    "    file_name = \"Data{0}.txt\".format(str(i))\n",
    "    with open(file_name) as f:\n",
    "        data_str = f.readlines()\n",
    "    data.append([int(x.strip()) for x in data_str])\n",
    "\n",
    "print(len(data))"
   ]
  },
  {
   "cell_type": "code",
   "execution_count": 4,
   "metadata": {},
   "outputs": [
    {
     "name": "stdout",
     "output_type": "stream",
     "text": [
      "BST Heights: [8, 10, 12, 14, 7, 10, 11, 10, 4, 12]\n",
      "BST Times: [0.04905128479003906, 0.04745912551879883, 0.04601430892944336, 0.06760406494140625, 0.04880189895629883, 0.04637598991394043, 0.04508614540100098, 0.04470682144165039, 0.07152700424194336, 0.048017024993896484]\n",
      "\n",
      "BST heights Mean: 9.8\n",
      "BST heights median: 10.0\n",
      "BST heights Standard Dev: 2.859681411936962\n",
      "\n",
      "BST Times Mean: 0.0514643669128418\n",
      "BST Times median: 0.047738075256347656\n",
      "BST Times Standard Dev: 0.009694087189213559\n"
     ]
    }
   ],
   "source": [
    "heights = []\n",
    "times = []\n",
    "\n",
    "for i in range(10):\n",
    "    start = time.time()\n",
    "    \n",
    "    tree = Node(10000)\n",
    "    for value in data[i]:\n",
    "        tree_insert(tree, Node(value))\n",
    "    \n",
    "    end = time.time()\n",
    "    \n",
    "    heights.append(get_height(tree))\n",
    "    times.append(end - start)\n",
    "\n",
    "    \n",
    "print(\"BST Heights:\", str(heights))\n",
    "print(\"BST Times:\", str(times))\n",
    "print(\"\")\n",
    "print(\"BST heights Mean:\", statistics.mean(heights))\n",
    "print(\"BST heights median:\", statistics.median(heights))\n",
    "print(\"BST heights Standard Dev:\", statistics.stdev(heights))\n",
    "print(\"\")\n",
    "print(\"BST Times Mean:\", statistics.mean(times))\n",
    "print(\"BST Times median:\", statistics.median(times))\n",
    "print(\"BST Times Standard Dev:\", statistics.stdev(times))"
   ]
  },
  {
   "cell_type": "code",
   "execution_count": null,
   "metadata": {},
   "outputs": [],
   "source": []
  }
 ],
 "metadata": {
  "kernelspec": {
   "display_name": "Python 3",
   "language": "python",
   "name": "python3"
  },
  "language_info": {
   "codemirror_mode": {
    "name": "ipython",
    "version": 3
   },
   "file_extension": ".py",
   "mimetype": "text/x-python",
   "name": "python",
   "nbconvert_exporter": "python",
   "pygments_lexer": "ipython3",
   "version": "3.6.4"
  }
 },
 "nbformat": 4,
 "nbformat_minor": 2
}
