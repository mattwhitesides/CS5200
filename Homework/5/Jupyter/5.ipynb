{
 "cells": [
  {
   "cell_type": "code",
   "execution_count": 1,
   "metadata": {},
   "outputs": [],
   "source": [
    "import sys"
   ]
  },
  {
   "cell_type": "code",
   "execution_count": 2,
   "metadata": {},
   "outputs": [],
   "source": [
    "def lcs(s1, s2):\n",
    "    table = [[\"\" for x in range(len(s2))] for x in range(len(s1))]\n",
    "    for i in range(len(s1)):\n",
    "        for j in range(len(s2)):\n",
    "            if s1[i] == s2[j]:\n",
    "                if i == 0 or j == 0:\n",
    "                    table[i][j] = s1[i]\n",
    "                else:\n",
    "                    table[i][j] = table[i-1][j-1] + s1[i]\n",
    "            else:\n",
    "                table[i][j] = max(table[i-1][j], table[i][j-1], key=len)\n",
    "    return table[-1][-1]"
   ]
  },
  {
   "cell_type": "code",
   "execution_count": 3,
   "metadata": {},
   "outputs": [
    {
     "name": "stdout",
     "output_type": "stream",
     "text": [
      "100110\n"
     ]
    }
   ],
   "source": [
    "print(lcs(\"10010101\", \"010110110\"));"
   ]
  },
  {
   "cell_type": "code",
   "execution_count": 4,
   "metadata": {},
   "outputs": [],
   "source": [
    "def matrix_chain_order(p):\n",
    "    n = len(p)\n",
    "    m = [[0 for x in range(n)] for x in range(n)]\n",
    "    s = [[0 for x in range(n)] for x in range(n)]\n",
    "\n",
    "    for i in range(1, n): \n",
    "        m[i][i] = 0\n",
    "\n",
    "    for L in range(2, n): \n",
    "        for i in range(1, n - L + 1): \n",
    "            j = i + L - 1\n",
    "            m[i][j] = sys.maxsize \n",
    "            for k in range(i, j): \n",
    "                q = m[i][k] + m[k + 1][j] + p[i-1] * p[k] * p[j] \n",
    "                if q < m[i][j]: \n",
    "                    m[i][j] = q\n",
    "                    s[i][j] = k\n",
    "\n",
    "    return m, s\n",
    "\n",
    "def matrix_multiply(A, B):\n",
    "    if len(A[0]) is not len(B):\n",
    "        print(\"incompatible dimensions\")\n",
    "        return\n",
    "    \n",
    "    result = [[0 for i in range(len(B[0]))] for j in range(len(A))]\n",
    "    \n",
    "    for i in range(len(A)):\n",
    "       for j in range(len(B[0])):\n",
    "           for k in range(len(B)):\n",
    "               result[i][j] += A[i][k] * B[k][j]\n",
    "            \n",
    "    return result\n",
    "\n",
    "def matrix_chain_multiply(A, s, i, j):\n",
    "    if i == j:\n",
    "        return A[i]\n",
    "    elif i + 1 == j:\n",
    "        return matrix_multiply(A[i], A[j])\n",
    "    \n",
    "    m1 = matrix_chain_multiply(A, s, i, s[i][j])\n",
    "    m2 = matrix_chain_multiply(A, s, s[i][j] + 1, j)\n",
    "    return matrix_multiply(m1, m2)"
   ]
  },
  {
   "cell_type": "code",
   "execution_count": 5,
   "metadata": {},
   "outputs": [
    {
     "name": "stdout",
     "output_type": "stream",
     "text": [
      "m =  [[0, 0, 0], [0, 0, 18], [0, 0, 0]]\n",
      "s =  [[0, 0, 0], [0, 0, 1], [0, 0, 0]]\n",
      "Validation =  [[58, 64], [166, 184]]\n",
      "MCM Answer =  [[58, 64], [166, 184]]\n"
     ]
    }
   ],
   "source": [
    "# Simplest test case only one possible option.\n",
    "M1 = [[1, 2, 3],\n",
    "      [5, 6, 7]]\n",
    "\n",
    "M2 = [[7, 8],\n",
    "      [9, 10],\n",
    "      [11, 12]]\n",
    "\n",
    "A = [M1, M2]\n",
    "n = len(A) - 1\n",
    "m, s = matrix_chain_order([len(M1[0]), len(M1), len(M2)])\n",
    "\n",
    "print(\"m = \", m)\n",
    "print(\"s = \", s)\n",
    "print(\"Validation = \", matrix_multiply(M1, M2))\n",
    "print(\"MCM Answer = \", matrix_chain_multiply(A, s, 0, n))"
   ]
  },
  {
   "cell_type": "code",
   "execution_count": 6,
   "metadata": {},
   "outputs": [
    {
     "name": "stdout",
     "output_type": "stream",
     "text": [
      "m =  [[0, 0, 0, 0, 0], [0, 0, 24, 14, 26], [0, 0, 0, 6, 12], [0, 0, 0, 0, 9], [0, 0, 0, 0, 0]]\n",
      "s =  [[0, 0, 0, 0, 0], [0, 0, 1, 1, 3], [0, 0, 0, 2, 3], [0, 0, 0, 0, 3], [0, 0, 0, 0, 0]]\n",
      "Validation =  [[14532, 16608, 18684], [18284, 20896, 23508], [22036, 25184, 28332], [25788, 29472, 33156]]\n",
      "MCM Answer =  [[14532, 16608, 18684], [18284, 20896, 23508], [22036, 25184, 28332], [25788, 29472, 33156]]\n"
     ]
    }
   ],
   "source": [
    "# Slightly more complex 4x2, 2x3, 3x1, and 1x3 matrices.\n",
    "M1 = [[7, 8],\n",
    "      [9, 10],\n",
    "      [11, 12],\n",
    "      [13, 14]]\n",
    "\n",
    "M2 = [[1, 2, 3],\n",
    "      [5, 6, 7]]\n",
    "\n",
    "M3 = [[10], \n",
    "      [11], \n",
    "      [12]]\n",
    "\n",
    "M4 = [[7, 8, 9]]\n",
    "\n",
    "A = [M1, M2, M3, M4]\n",
    "n = len(A) - 1\n",
    "\n",
    "ans = matrix_multiply(M1, M2)\n",
    "ans = matrix_multiply(ans, M3)\n",
    "ans = matrix_multiply(ans, M4)\n",
    "m, s = matrix_chain_order([4, 2, 3, 1, 3])\n",
    "\n",
    "print(\"m = \", m)\n",
    "print(\"s = \", s)\n",
    "print(\"Validation = \", ans)\n",
    "print(\"MCM Answer = \", matrix_chain_multiply(A, s, 0, n))"
   ]
  },
  {
   "cell_type": "code",
   "execution_count": 47,
   "metadata": {},
   "outputs": [],
   "source": [
    "class DisjointSet:\n",
    "    parents = {}\n",
    "    ranks = {}\n",
    "    def __init__(self, nodes):\n",
    "        self.nodes = nodes\n",
    "        for n in self.nodes:\n",
    "            self.parents[n] = n\n",
    "            self.ranks[n] = 0\n",
    "    def __str__(self):\n",
    "        t = \"(\\n\\tnodes = {}\\n\\tparents = {}\\n\\trank = {}\\n)\"\n",
    "        return t.format(self.nodes, self.parents, self.ranks) \n",
    "    \n",
    "    def union(self, x, y):\n",
    "        self.link(self.find_set(x), self.find_set(y))\n",
    "\n",
    "    def link(self, x, y):\n",
    "        if self.ranks[x] > self.ranks[y]:\n",
    "            self.parents[y] = x\n",
    "        else:\n",
    "            self.parents[x] = y\n",
    "            if self.ranks[x] == self.ranks[y]:\n",
    "                self.ranks[y] = self.ranks[y] + 1\n",
    "        return self.ranks[x]\n",
    "    \n",
    "    #Recursive definition from the book.\n",
    "    def find_set_recur(self, x):\n",
    "        if self.parents[x] == x:\n",
    "            return x\n",
    "        return self.find_set(self.parents[x])\n",
    "    \n",
    "    #Non-Recursive version.\n",
    "    def find_set(self, x):\n",
    "        y = x\n",
    "        while y is not self.parents[y]:\n",
    "            y = self.parents[y]\n",
    "        while y is not x:\n",
    "            z = self.parents[x]\n",
    "            self.parents[x] = y\n",
    "            x = z\n",
    "        return y\n",
    "        "
   ]
  },
  {
   "cell_type": "code",
   "execution_count": 48,
   "metadata": {},
   "outputs": [
    {
     "name": "stdout",
     "output_type": "stream",
     "text": [
      "(\n",
      "\tnodes = ['a', 'b', 'c', 'd', 'e', 'f']\n",
      "\tparents = {'a': 'a', 'b': 'a', 'c': 'a', 'd': 'a', 'e': 'a', 'f': 'a'}\n",
      "\trank = {'a': 1, 'b': 0, 'c': 0, 'd': 0, 'e': 0, 'f': 0}\n",
      ")\n"
     ]
    }
   ],
   "source": [
    "nodes = ['a', 'b', 'c', 'd', 'e', 'f']    \n",
    "ds = DisjointSet(nodes)\n",
    "\n",
    "ds.union('b', 'a')\n",
    "ds.union('c', 'b')\n",
    "ds.union('d', 'c')\n",
    "ds.union('e', 'd')\n",
    "ds.union('f', 'e')\n",
    "\n",
    "print(ds)"
   ]
  },
  {
   "cell_type": "code",
   "execution_count": 51,
   "metadata": {},
   "outputs": [
    {
     "name": "stdout",
     "output_type": "stream",
     "text": [
      "(\n",
      "\tnodes = ['a', 'b', 'c', 'd', 'e', 'f', 'g']\n",
      "\tparents = {'a': 'a', 'b': 'a', 'c': 'a', 'd': 'a', 'e': 'f', 'f': 'f', 'g': 'f'}\n",
      "\trank = {'a': 1, 'b': 0, 'c': 0, 'd': 0, 'e': 0, 'f': 1, 'g': 0}\n",
      ")\n"
     ]
    }
   ],
   "source": [
    "nodes = ['a', 'b', 'c', 'd', 'e', 'f', 'g']\n",
    "ds = DisjointSet(nodes)\n",
    "\n",
    "ds.union('b', 'a')\n",
    "ds.union('c', 'b')\n",
    "ds.union('d', 'c')\n",
    "\n",
    "ds.union('e', 'f')\n",
    "ds.union('g', 'f')\n",
    "\n",
    "print(ds)"
   ]
  },
  {
   "cell_type": "code",
   "execution_count": null,
   "metadata": {},
   "outputs": [],
   "source": []
  }
 ],
 "metadata": {
  "kernelspec": {
   "display_name": "Python 3",
   "language": "python",
   "name": "python3"
  },
  "language_info": {
   "codemirror_mode": {
    "name": "ipython",
    "version": 3
   },
   "file_extension": ".py",
   "mimetype": "text/x-python",
   "name": "python",
   "nbconvert_exporter": "python",
   "pygments_lexer": "ipython3",
   "version": "3.7.1"
  }
 },
 "nbformat": 4,
 "nbformat_minor": 2
}
