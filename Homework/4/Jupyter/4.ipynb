{
 "cells": [
  {
   "cell_type": "code",
   "execution_count": 28,
   "metadata": {},
   "outputs": [],
   "source": [
    "import random \n",
    "from statistics import mean"
   ]
  },
  {
   "cell_type": "code",
   "execution_count": 44,
   "metadata": {},
   "outputs": [],
   "source": [
    "def isPrime(n): \n",
    "    if (n <= 1):\n",
    "        return False\n",
    "    if (n <= 3):\n",
    "        return True\n",
    "    if (n % 2 == 0 or n % 3 == 0):\n",
    "        return False    \n",
    "    i = 5\n",
    "    while(i * i <= n):\n",
    "        if (n % i == 0 or n % (i + 2) == 0):\n",
    "            return False\n",
    "        i = i + 6        \n",
    "    return True\n",
    "\n",
    "def getRandPrimeTwelveDigitNum():\n",
    "    while(True):\n",
    "        x = random.randrange(10**11, 10**12)\n",
    "        if isPrime(x):\n",
    "            return x\n",
    "\n",
    "def getRandomNumbers(n, r):\n",
    "    return [random.randint(0,r) for i in range(n)]\n",
    "\n",
    "def countCollisions(hash_method, a, b, s, m, p):\n",
    "    count = 0\n",
    "    total = 0\n",
    "    for x in s:\n",
    "        for y in s[1:]:\n",
    "            total += 1\n",
    "            hx = hash_method(a, b, x, p, m)\n",
    "            hy = hash_method(a, b, y, p, m)\n",
    "            if hx is hy and x is not y:\n",
    "                #fstr = \"Colide: a={0}, b={1}, x={2}, y={3}, p={4}, m={5}, h={6}\"\n",
    "                #print(fstr.format(a, b, x, y, p, m, hx))\n",
    "                count += 1\n",
    "    return count, total"
   ]
  },
  {
   "cell_type": "code",
   "execution_count": 46,
   "metadata": {},
   "outputs": [
    {
     "name": "stdout",
     "output_type": "stream",
     "text": [
      "1/m: 0.005\n",
      "Average number of collisions per hash function: 49.62\n",
      "Probability of collision of any two numbers: 0.005012121212121212\n"
     ]
    }
   ],
   "source": [
    "p = getRandPrimeTwelveDigitNum()\n",
    "s = getRandomNumbers(100, p)\n",
    "m = 200\n",
    "h = lambda a, b, k, p, m: (((a * k) + b) % p) % m\n",
    "lst = []\n",
    "\n",
    "for i in range(50):\n",
    "    a = random.randint(1, p)\n",
    "    b = random.randint(0, p)    \n",
    "    count, comparisons = countCollisions(h, a, b, s, m, p)\n",
    "    lst.append(count)\n",
    "\n",
    "avg = mean(lst)    \n",
    "    \n",
    "print(\"1/m:\", 1/m)\n",
    "print(\"Average number of collisions per hash function:\", avg)\n",
    "print(\"Probability of collision of any two numbers:\", avg / comparisons)"
   ]
  },
  {
   "cell_type": "code",
   "execution_count": null,
   "metadata": {},
   "outputs": [],
   "source": []
  }
 ],
 "metadata": {
  "kernelspec": {
   "display_name": "Python 3",
   "language": "python",
   "name": "python3"
  },
  "language_info": {
   "codemirror_mode": {
    "name": "ipython",
    "version": 3
   },
   "file_extension": ".py",
   "mimetype": "text/x-python",
   "name": "python",
   "nbconvert_exporter": "python",
   "pygments_lexer": "ipython3",
   "version": "3.7.1"
  }
 },
 "nbformat": 4,
 "nbformat_minor": 2
}
