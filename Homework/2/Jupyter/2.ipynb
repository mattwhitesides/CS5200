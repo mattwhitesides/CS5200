{
 "cells": [
  {
   "cell_type": "code",
   "execution_count": 23,
   "metadata": {},
   "outputs": [],
   "source": [
    "import sys\n",
    "import random\n",
    "from tabulate import tabulate"
   ]
  },
  {
   "cell_type": "code",
   "execution_count": 203,
   "metadata": {},
   "outputs": [],
   "source": [
    "def getInvCount(arr, n):\n",
    "    count = 0\n",
    "    for i in range(0, n):\n",
    "        j = i + 1\n",
    "        while j < n:\n",
    "            if arr[i] > arr[j]:\n",
    "                count += 1;\n",
    "            j += 1\n",
    "    return count;"
   ]
  },
  {
   "cell_type": "code",
   "execution_count": 204,
   "metadata": {},
   "outputs": [
    {
     "data": {
      "text/plain": [
       "5"
      ]
     },
     "execution_count": 204,
     "metadata": {},
     "output_type": "execute_result"
    }
   ],
   "source": [
    "arr = [2, 3, 8, 6, 1]\n",
    "getInvCount(arr, len(arr))"
   ]
  },
  {
   "cell_type": "code",
   "execution_count": 344,
   "metadata": {},
   "outputs": [],
   "source": [
    "def merge(A, p, q, r): \n",
    "    num_inv = 0\n",
    "    n1 = q - p + 1\n",
    "    n2 = r - q \n",
    "    L = [0] * (n1) \n",
    "    R = [0] * (n2) \n",
    "    \n",
    "    for i in range(0 , n1): \n",
    "        L[i] = A[p + i] \n",
    "    for j in range(0 , n2): \n",
    "        R[j] = A[q + j + 1] \n",
    "\n",
    "    i = 0\n",
    "    j = 0\n",
    "    k = p\n",
    "\n",
    "    while i < n1 and j < n2: \n",
    "        if L[i] <= R[j]: \n",
    "            A[k] = L[i] \n",
    "            i += 1\n",
    "        else:\n",
    "            num_inv = q - i + 1\n",
    "            A[k] = R[j] \n",
    "            j += 1\n",
    "        k += 1\n",
    "\n",
    "    while i < n1: \n",
    "        A[k] = L[i] \n",
    "        i += 1\n",
    "        k += 1\n",
    "\n",
    "    while j < n2: \n",
    "        A[k] = R[j] \n",
    "        j += 1\n",
    "        k += 1\n",
    "    \n",
    "    return num_inv\n",
    "        \n",
    "def merge_sort(A, p, r):\n",
    "    num_inv = 0\n",
    "    if p < r:\n",
    "        q = (p + r) // 2\n",
    "        num_inv = merge_sort(A, p, q)\n",
    "        num_inv += merge_sort(A, q + 1, r)\n",
    "        num_inv += merge(A, p, q, r)            \n",
    "    return num_inv"
   ]
  },
  {
   "cell_type": "code",
   "execution_count": 345,
   "metadata": {},
   "outputs": [
    {
     "name": "stdout",
     "output_type": "stream",
     "text": [
      "[1, 2, 3, 6, 8]\n",
      "# of Inversions:  5\n"
     ]
    }
   ],
   "source": [
    "A = [2, 3, 8, 6, 1]\n",
    "num_inv = merge_sort(A, 0, len(A) - 1)\n",
    "print(A)\n",
    "print(\"# of Inversions: \", num_inv)"
   ]
  },
  {
   "cell_type": "code",
   "execution_count": null,
   "metadata": {},
   "outputs": [],
   "source": []
  },
  {
   "cell_type": "code",
   "execution_count": null,
   "metadata": {},
   "outputs": [],
   "source": []
  }
 ],
 "metadata": {
  "kernelspec": {
   "display_name": "Python 3",
   "language": "python",
   "name": "python3"
  },
  "language_info": {
   "codemirror_mode": {
    "name": "ipython",
    "version": 3
   },
   "file_extension": ".py",
   "mimetype": "text/x-python",
   "name": "python",
   "nbconvert_exporter": "python",
   "pygments_lexer": "ipython3",
   "version": "3.7.1"
  }
 },
 "nbformat": 4,
 "nbformat_minor": 2
}
