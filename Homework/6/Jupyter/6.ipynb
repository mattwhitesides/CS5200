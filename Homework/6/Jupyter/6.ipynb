{
 "cells": [
  {
   "cell_type": "code",
   "execution_count": 5,
   "metadata": {},
   "outputs": [],
   "source": [
    "# A function for given a graph dictionary g we calculate the outdegree of each vertex.\n",
    "def get_out_degree(g):\n",
    "    out_degrees = {}\n",
    "    # O(V) Time\n",
    "    for v in g:\n",
    "        out_degrees[v] = 0\n",
    "        # O(Ei) Time note this is iterating the list even thoguh we have them in memory.\n",
    "        for ei in g[v]:\n",
    "            out_degrees[v] += 1 \n",
    "\n",
    "    # Thus final time complexity is O(V + E)\n",
    "    return out_degrees\n",
    "\n",
    "\n",
    "def get_in_degree(g):\n",
    "    in_degrees = {}\n",
    "    # O(V) Time\n",
    "    for v in g:\n",
    "        in_degrees[v] = 0\n",
    "        \n",
    "    for v in g:\n",
    "        # O(Ei) Time note this is iterating the list even thoguh we have them in memory.\n",
    "        # This is essentailly the same as the previous except it's adding from the in list.\n",
    "        for ei in g[v]:\n",
    "            in_degrees[ei] += 1 \n",
    "\n",
    "    # Thus final time complexity is still O(V + E)\n",
    "    return in_degrees        \n",
    "        "
   ]
  },
  {
   "cell_type": "code",
   "execution_count": 11,
   "metadata": {},
   "outputs": [
    {
     "name": "stdout",
     "output_type": "stream",
     "text": [
      "Out degrees: {'a': 2, 'b': 2, 'c': 4, 'd': 3, 'e': 2, 'f': 0}\n",
      "In degrees: {'a': 2, 'b': 2, 'c': 4, 'd': 1, 'e': 2, 'f': 2}\n"
     ]
    }
   ],
   "source": [
    "adj_list = { \"a\": [\"c\", \"f\"],\n",
    "              \"b\": [\"c\", \"e\"],\n",
    "              \"c\": [\"a\", \"b\", \"d\", \"e\"],\n",
    "              \"d\": [\"c\", \"a\", \"f\"],\n",
    "              \"e\": [\"c\", \"b\"],\n",
    "              \"f\": []\n",
    "           }\n",
    "\n",
    "print(\"Out degrees:\", get_out_degree(adj_list))\n",
    "print(\"In degrees:\", get_in_degree(adj_list))"
   ]
  },
  {
   "cell_type": "code",
   "execution_count": 12,
   "metadata": {},
   "outputs": [
    {
     "name": "stdout",
     "output_type": "stream",
     "text": [
      "Oout degrees: {1: 4, 2: 4, 3: 3, 4: 3, 5: 1, 6: 3, 7: 3, 8: 0}\n",
      "In degrees: {1: 6, 2: 4, 3: 5, 4: 1, 5: 1, 6: 1, 7: 1, 8: 2}\n"
     ]
    }
   ],
   "source": [
    "adj_list = {\n",
    "    1: [2, 3, 8, 4],\n",
    "    2: [1, 3, 7, 5],\n",
    "    3: [1, 2, 6],\n",
    "    4: [3, 2, 1],\n",
    "    5: [1],\n",
    "    6: [1, 2, 3],\n",
    "    7: [8, 1, 3],\n",
    "    8: []\n",
    "}\n",
    "\n",
    "print(\"Oout degrees:\", get_out_degree(adj_list))\n",
    "print(\"In degrees:\", get_in_degree(adj_list))"
   ]
  },
  {
   "cell_type": "code",
   "execution_count": null,
   "metadata": {},
   "outputs": [],
   "source": []
  }
 ],
 "metadata": {
  "kernelspec": {
   "display_name": "Python 3",
   "language": "python",
   "name": "python3"
  },
  "language_info": {
   "codemirror_mode": {
    "name": "ipython",
    "version": 3
   },
   "file_extension": ".py",
   "mimetype": "text/x-python",
   "name": "python",
   "nbconvert_exporter": "python",
   "pygments_lexer": "ipython3",
   "version": "3.6.4"
  }
 },
 "nbformat": 4,
 "nbformat_minor": 2
}
