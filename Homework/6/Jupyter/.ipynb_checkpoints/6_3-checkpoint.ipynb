{
 "cells": [
  {
   "cell_type": "code",
   "execution_count": null,
   "metadata": {},
   "outputs": [],
   "source": [
    "# Simple graph class using a dictionary as list of nodes and edges.\n",
    "class Graph:   \n",
    "    def __init__(self): \n",
    "        self.g = {}\n",
    "  \n",
    "    def add_edge(self, u, v): \n",
    "        self.graph[u].append(v) \n",
    "  \n",
    "    # A function used by DFS \n",
    "    def DFSUtil(self, v, visited): \n",
    "  \n",
    "        # Mark the current node as visited  \n",
    "        # and print it \n",
    "        visited[v] = True\n",
    "        print(v, end = ' ') \n",
    "  \n",
    "        # Recur for all the vertices  \n",
    "        # adjacent to this vertex \n",
    "        for i in self.graph[v]: \n",
    "            if visited[i] == False: \n",
    "                self.DFSUtil(i, visited) \n",
    "  \n",
    "    # The function to do DFS traversal. It uses \n",
    "    # recursive DFSUtil() \n",
    "    def DFS(self, v): \n",
    "  \n",
    "        # Mark all the vertices as not visited \n",
    "        visited = [False] * (len(self.graph)) \n",
    "  \n",
    "        # Call the recursive helper function  \n",
    "        # to print DFS traversal \n",
    "        self.DFSUtil(v, visited) "
   ]
  }
 ],
 "metadata": {
  "kernelspec": {
   "display_name": "Python 3",
   "language": "python",
   "name": "python3"
  },
  "language_info": {
   "codemirror_mode": {
    "name": "ipython",
    "version": 3
   },
   "file_extension": ".py",
   "mimetype": "text/x-python",
   "name": "python",
   "nbconvert_exporter": "python",
   "pygments_lexer": "ipython3",
   "version": "3.6.4"
  }
 },
 "nbformat": 4,
 "nbformat_minor": 2
}
