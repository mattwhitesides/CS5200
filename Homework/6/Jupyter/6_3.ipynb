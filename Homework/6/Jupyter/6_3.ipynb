{
 "cells": [
  {
   "cell_type": "code",
   "execution_count": 74,
   "metadata": {},
   "outputs": [],
   "source": [
    "# Simple graph class using a dictionary as list of nodes and edges.\n",
    "class Graph:   \n",
    "    def __init__(self): \n",
    "        self.G = {}\n",
    "        \n",
    "    def __str__(self):\n",
    "        return str(self.G)\n",
    "  \n",
    "    def add_edge(self, u, v): \n",
    "        if u in self.G:\n",
    "            self.G[u].append(v) \n",
    "        else:\n",
    "            self.G[u] = [v]\n",
    "  \n",
    "    def DFS_visit(self, v, times_visited): \n",
    "        times_visited[v] += 1\n",
    "        print(v, end = ' -> ') \n",
    "        \n",
    "        for i in self.G[v]: \n",
    "            if times_visited[i] < 2:  \n",
    "                self.DFS_visit(i, times_visited)\n",
    "    \n",
    "    # Modified DFS/DFS-Visit from 22.3 p. 604 in the book.\n",
    "    def DFS(self): \n",
    "        times_visited = [0] * (len(self.G)) \n",
    "        \n",
    "        for v in self.G:\n",
    "            self.DFS_visit(v, times_visited)\n",
    "            break"
   ]
  },
  {
   "cell_type": "code",
   "execution_count": 75,
   "metadata": {},
   "outputs": [
    {
     "name": "stdout",
     "output_type": "stream",
     "text": [
      "{0: [1, 2], 1: [2], 2: [0, 3], 3: [3]}\n",
      "0 -> 1 -> 2 -> 0 -> 1 -> 2 -> 3 -> 3 -> "
     ]
    }
   ],
   "source": [
    "g = Graph() \n",
    "g.add_edge(0, 1) \n",
    "g.add_edge(0, 2) \n",
    "g.add_edge(1, 2) \n",
    "g.add_edge(2, 0) \n",
    "g.add_edge(2, 3) \n",
    "g.add_edge(3, 3) \n",
    "\n",
    "print(g)\n",
    "\n",
    "g.DFS()"
   ]
  },
  {
   "cell_type": "code",
   "execution_count": 76,
   "metadata": {},
   "outputs": [
    {
     "name": "stdout",
     "output_type": "stream",
     "text": [
      "{0: [1], 1: [2], 2: [3], 3: [1]}\n",
      "0 -> 1 -> 2 -> 3 -> 1 -> 2 -> 3 -> "
     ]
    }
   ],
   "source": [
    "g = Graph() \n",
    "g.add_edge(0, 1) \n",
    "g.add_edge(1, 2) \n",
    "g.add_edge(2, 3) \n",
    "g.add_edge(3, 1) \n",
    "\n",
    "print(g)\n",
    "\n",
    "g.DFS()"
   ]
  },
  {
   "cell_type": "code",
   "execution_count": null,
   "metadata": {},
   "outputs": [],
   "source": []
  }
 ],
 "metadata": {
  "kernelspec": {
   "display_name": "Python 3",
   "language": "python",
   "name": "python3"
  },
  "language_info": {
   "codemirror_mode": {
    "name": "ipython",
    "version": 3
   },
   "file_extension": ".py",
   "mimetype": "text/x-python",
   "name": "python",
   "nbconvert_exporter": "python",
   "pygments_lexer": "ipython3",
   "version": "3.6.4"
  }
 },
 "nbformat": 4,
 "nbformat_minor": 2
}
