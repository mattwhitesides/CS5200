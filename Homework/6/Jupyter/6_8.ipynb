{
 "cells": [
  {
   "cell_type": "code",
   "execution_count": 1,
   "metadata": {},
   "outputs": [],
   "source": [
    "import sys"
   ]
  },
  {
   "cell_type": "code",
   "execution_count": 43,
   "metadata": {},
   "outputs": [],
   "source": [
    "class Graph(): \n",
    "    def __init__(self, vertices): \n",
    "        self.V = vertices \n",
    "        self.G = [[0 for y in range(vertices)] for x in range(vertices)] \n",
    "  \n",
    "    def print_mst(self, pi): \n",
    "        for i in range(1, self.V):\n",
    "            if pi[i] is not None:\n",
    "                print(\"Edge: ({0},{1}), Weight: {2}\".format(pi[i], i, self.G[i][pi[i]]))\n",
    "  \n",
    "    def extract_min(self, key, Q): \n",
    "        min = sys.maxsize \n",
    "  \n",
    "        for v in range(self.V): \n",
    "            if key[v] < min and Q[v] == 0: \n",
    "                min = key[v] \n",
    "                min_index = v \n",
    "  \n",
    "        return min_index \n",
    "\n",
    "    def mst_prim(self):\n",
    "        key = [sys.maxsize] * self.V \n",
    "        pi = [None] * self.V \n",
    "\n",
    "        key[0] = 0 \n",
    "        Q = [0] * self.V \n",
    "  \n",
    "        pi[0] = -1\n",
    "        \n",
    "        for v in range(self.V): \n",
    "            u = self.extract_min(key, Q) \n",
    "            Q[u] = 1\n",
    "            for v in range(self.V): \n",
    "                if self.G[u][v] > 0 and Q[v] == 0 and key[v] > self.G[u][v]: \n",
    "                    pi[v] = u\n",
    "                    key[v] = self.G[u][v] \n",
    " \n",
    "  \n",
    "        self.print_mst(pi)"
   ]
  },
  {
   "cell_type": "code",
   "execution_count": 50,
   "metadata": {},
   "outputs": [
    {
     "name": "stdout",
     "output_type": "stream",
     "text": [
      "Edge: (2,1), Weight: 3\n",
      "Edge: (5,2), Weight: 3\n",
      "Edge: (0,3), Weight: 6\n",
      "Edge: (1,4), Weight: 4\n",
      "Edge: (0,5), Weight: 1\n"
     ]
    }
   ],
   "source": [
    "g = Graph(6) \n",
    "g.G = [[0, 11, 0, 6, 0, 1], \n",
    "       [11, 0, 3, 10, 4, 0], \n",
    "       [0, 3, 0, 0, 7, 3], \n",
    "       [6, 10, 0, 0, 9, 0], \n",
    "       [0, 4, 7, 9, 0, 0],\n",
    "       [1, 0, 2, 0, 0, 0]]\n",
    "g.mst_prim(); "
   ]
  },
  {
   "cell_type": "code",
   "execution_count": 52,
   "metadata": {},
   "outputs": [
    {
     "name": "stdout",
     "output_type": "stream",
     "text": [
      "Edge: (0,1), Weight: 1\n",
      "Edge: (1,2), Weight: 2\n"
     ]
    }
   ],
   "source": [
    "g = Graph(3) \n",
    "g.G = [[0, 1, 0], [1, 0, 2], [0, 2, 0]] \n",
    "g.mst_prim(); "
   ]
  },
  {
   "cell_type": "code",
   "execution_count": null,
   "metadata": {},
   "outputs": [],
   "source": []
  }
 ],
 "metadata": {
  "kernelspec": {
   "display_name": "Python 3",
   "language": "python",
   "name": "python3"
  },
  "language_info": {
   "codemirror_mode": {
    "name": "ipython",
    "version": 3
   },
   "file_extension": ".py",
   "mimetype": "text/x-python",
   "name": "python",
   "nbconvert_exporter": "python",
   "pygments_lexer": "ipython3",
   "version": "3.6.4"
  }
 },
 "nbformat": 4,
 "nbformat_minor": 2
}
