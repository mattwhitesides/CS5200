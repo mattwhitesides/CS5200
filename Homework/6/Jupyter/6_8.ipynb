{
 "cells": [
  {
   "cell_type": "code",
   "execution_count": 1,
   "metadata": {},
   "outputs": [],
   "source": [
    "import sys"
   ]
  },
  {
   "cell_type": "code",
   "execution_count": 2,
   "metadata": {},
   "outputs": [],
   "source": [
    "class Graph(): \n",
    "    def __init__(self, vertices): \n",
    "        self.V = vertices \n",
    "        self.G = [[0 for column in range(vertices)]  \n",
    "                    for row in range(vertices)] \n",
    "  \n",
    "    def print_mst(self, pi): \n",
    "        print(\"Edge \\tWeight\")\n",
    "        for i in range(1, self.V): \n",
    "            print(pi[i], \"-\", i, \"\\t\", self.G[i][pi[i]])\n",
    "  \n",
    "    def extract_min(self, key, Q): \n",
    "        min = sys.maxsize \n",
    "  \n",
    "        for v in range(self.V): \n",
    "            if key[v] < min and Q[v] == False: \n",
    "                min = key[v] \n",
    "                min_index = v \n",
    "  \n",
    "        return min_index \n",
    "\n",
    "    def mst_prim(self): \n",
    "        key = [sys.maxsize] * self.V \n",
    "        pi = [None] * self.V \n",
    "\n",
    "        key[0] = 0 \n",
    "        Q = [False] * self.V \n",
    "  \n",
    "        pi[0] = -1\n",
    "  \n",
    "        for v in range(self.V): \n",
    "            u = self.extract_min(key, Q) \n",
    "            Q[u] = True\n",
    "\n",
    "            for v in range(self.V): \n",
    "                if self.G[u][v] > 0 and Q[v] == False and key[v] > self.G[u][v]: \n",
    "                        key[v] = self.G[u][v] \n",
    "                        pi[v] = u \n",
    "  \n",
    "        self.print_mst(pi) "
   ]
  },
  {
   "cell_type": "code",
   "execution_count": 3,
   "metadata": {},
   "outputs": [
    {
     "name": "stdout",
     "output_type": "stream",
     "text": [
      "Edge \tWeight\n",
      "0 - 1 \t 2\n",
      "1 - 2 \t 3\n",
      "0 - 3 \t 6\n",
      "1 - 4 \t 5\n"
     ]
    }
   ],
   "source": [
    "g = Graph(5) \n",
    "g.G = [ [0, 2, 0, 6, 0], \n",
    "        [2, 0, 3, 8, 5], \n",
    "        [0, 3, 0, 0, 7], \n",
    "        [6, 8, 0, 0, 9], \n",
    "        [0, 5, 7, 9, 0]] \n",
    "  \n",
    "g.mst_prim(); "
   ]
  },
  {
   "cell_type": "code",
   "execution_count": null,
   "metadata": {},
   "outputs": [],
   "source": []
  }
 ],
 "metadata": {
  "kernelspec": {
   "display_name": "Python 3",
   "language": "python",
   "name": "python3"
  },
  "language_info": {
   "codemirror_mode": {
    "name": "ipython",
    "version": 3
   },
   "file_extension": ".py",
   "mimetype": "text/x-python",
   "name": "python",
   "nbconvert_exporter": "python",
   "pygments_lexer": "ipython3",
   "version": "3.6.4"
  }
 },
 "nbformat": 4,
 "nbformat_minor": 2
}
